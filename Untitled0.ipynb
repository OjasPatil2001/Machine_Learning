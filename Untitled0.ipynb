{
  "cells": [
    {
      "cell_type": "markdown",
      "metadata": {
        "id": "view-in-github",
        "colab_type": "text"
      },
      "source": [
        "<a href=\"https://colab.research.google.com/github/OjasPatil2001/Machine_Learning/blob/main/Untitled0.ipynb\" target=\"_parent\"><img src=\"https://colab.research.google.com/assets/colab-badge.svg\" alt=\"Open In Colab\"/></a>"
      ]
    },
    {
      "cell_type": "markdown",
      "metadata": {
        "id": "rcLBn2NUpPR1"
      },
      "source": [
        "## Understanding the dataset"
      ]
    },
    {
      "cell_type": "code",
      "execution_count": null,
      "metadata": {
        "colab": {
          "base_uri": "https://localhost:8080/"
        },
        "id": "QjQ8BETzpWwP",
        "outputId": "200049b8-60d4-4fa4-b8f4-92bbda176e97"
      },
      "outputs": [
        {
          "output_type": "stream",
          "name": "stdout",
          "text": [
            "Mounted at /content/drive\n"
          ]
        }
      ],
      "source": [
        "from google.colab import drive\n",
        "drive.mount('/content/drive')"
      ]
    },
    {
      "cell_type": "code",
      "execution_count": null,
      "metadata": {
        "id": "BwQknPBapOpv"
      },
      "outputs": [],
      "source": [
        "import pandas as pd\n",
        "df = pd.read_excel('/content/drive/MyDrive/acem_radiographs/Labelleing of films.xlsx')"
      ]
    },
    {
      "cell_type": "code",
      "execution_count": null,
      "metadata": {
        "id": "LQEMh3n8pKTO"
      },
      "outputs": [],
      "source": [
        "df.dropna(subset=[\"Type of defect\"], inplace=True)"
      ]
    },
    {
      "cell_type": "code",
      "execution_count": null,
      "metadata": {
        "id": "3_p4mZ3lp_f4"
      },
      "outputs": [],
      "source": [
        "path = 'Data/'\n",
        "df['path'] = path + df['File Name'] + '.dcm'"
      ]
    },
    {
      "cell_type": "code",
      "execution_count": null,
      "metadata": {
        "colab": {
          "base_uri": "https://localhost:8080/"
        },
        "id": "81mNY9eIqByM",
        "outputId": "be2d4d1f-402f-4eca-f642-ddf2347b4519"
      },
      "outputs": [
        {
          "output_type": "execute_result",
          "data": {
            "text/plain": [
              "0"
            ]
          },
          "metadata": {},
          "execution_count": 5
        }
      ],
      "source": [
        "df['Type of defect'].isna().sum()"
      ]
    },
    {
      "cell_type": "code",
      "execution_count": null,
      "metadata": {
        "colab": {
          "base_uri": "https://localhost:8080/",
          "height": 206
        },
        "id": "E8IyuA7SqDdl",
        "outputId": "33b2fb9c-4ec9-4cbe-e0da-fb2218c0321d"
      },
      "outputs": [
        {
          "output_type": "execute_result",
          "data": {
            "text/plain": [
              "            File Name Motor details  \\\n",
              "0                5JKR     A5S3C R19   \n",
              "1             140-164     K4B1 MKII   \n",
              "2  2202897-VEDA-F4-B7      VEDA BEM   \n",
              "3  2202897-VEDA-F4-B8     VEDA BEM    \n",
              "4          2206915-B1      K4B1 BEM   \n",
              "\n",
              "                                 Type of defect Status  \\\n",
              "0   High density within propellant near the IQI    NaN   \n",
              "1                    Delamination within rubber    NaN   \n",
              "2                       Voids in the propellant    NaN   \n",
              "3                       Voids in the propellant    NaN   \n",
              "4  Porosity and discontinuity in the propellant    NaN   \n",
              "\n",
              "                          path  \n",
              "0                Data/5JKR.dcm  \n",
              "1             Data/140-164.dcm  \n",
              "2  Data/2202897-VEDA-F4-B7.dcm  \n",
              "3  Data/2202897-VEDA-F4-B8.dcm  \n",
              "4          Data/2206915-B1.dcm  "
            ],
            "text/html": [
              "\n",
              "  <div id=\"df-6248e563-354d-4313-bc26-4cd172082b3c\" class=\"colab-df-container\">\n",
              "    <div>\n",
              "<style scoped>\n",
              "    .dataframe tbody tr th:only-of-type {\n",
              "        vertical-align: middle;\n",
              "    }\n",
              "\n",
              "    .dataframe tbody tr th {\n",
              "        vertical-align: top;\n",
              "    }\n",
              "\n",
              "    .dataframe thead th {\n",
              "        text-align: right;\n",
              "    }\n",
              "</style>\n",
              "<table border=\"1\" class=\"dataframe\">\n",
              "  <thead>\n",
              "    <tr style=\"text-align: right;\">\n",
              "      <th></th>\n",
              "      <th>File Name</th>\n",
              "      <th>Motor details</th>\n",
              "      <th>Type of defect</th>\n",
              "      <th>Status</th>\n",
              "      <th>path</th>\n",
              "    </tr>\n",
              "  </thead>\n",
              "  <tbody>\n",
              "    <tr>\n",
              "      <th>0</th>\n",
              "      <td>5JKR</td>\n",
              "      <td>A5S3C R19</td>\n",
              "      <td>High density within propellant near the IQI</td>\n",
              "      <td>NaN</td>\n",
              "      <td>Data/5JKR.dcm</td>\n",
              "    </tr>\n",
              "    <tr>\n",
              "      <th>1</th>\n",
              "      <td>140-164</td>\n",
              "      <td>K4B1 MKII</td>\n",
              "      <td>Delamination within rubber</td>\n",
              "      <td>NaN</td>\n",
              "      <td>Data/140-164.dcm</td>\n",
              "    </tr>\n",
              "    <tr>\n",
              "      <th>2</th>\n",
              "      <td>2202897-VEDA-F4-B7</td>\n",
              "      <td>VEDA BEM</td>\n",
              "      <td>Voids in the propellant</td>\n",
              "      <td>NaN</td>\n",
              "      <td>Data/2202897-VEDA-F4-B7.dcm</td>\n",
              "    </tr>\n",
              "    <tr>\n",
              "      <th>3</th>\n",
              "      <td>2202897-VEDA-F4-B8</td>\n",
              "      <td>VEDA BEM</td>\n",
              "      <td>Voids in the propellant</td>\n",
              "      <td>NaN</td>\n",
              "      <td>Data/2202897-VEDA-F4-B8.dcm</td>\n",
              "    </tr>\n",
              "    <tr>\n",
              "      <th>4</th>\n",
              "      <td>2206915-B1</td>\n",
              "      <td>K4B1 BEM</td>\n",
              "      <td>Porosity and discontinuity in the propellant</td>\n",
              "      <td>NaN</td>\n",
              "      <td>Data/2206915-B1.dcm</td>\n",
              "    </tr>\n",
              "  </tbody>\n",
              "</table>\n",
              "</div>\n",
              "    <div class=\"colab-df-buttons\">\n",
              "\n",
              "  <div class=\"colab-df-container\">\n",
              "    <button class=\"colab-df-convert\" onclick=\"convertToInteractive('df-6248e563-354d-4313-bc26-4cd172082b3c')\"\n",
              "            title=\"Convert this dataframe to an interactive table.\"\n",
              "            style=\"display:none;\">\n",
              "\n",
              "  <svg xmlns=\"http://www.w3.org/2000/svg\" height=\"24px\" viewBox=\"0 -960 960 960\">\n",
              "    <path d=\"M120-120v-720h720v720H120Zm60-500h600v-160H180v160Zm220 220h160v-160H400v160Zm0 220h160v-160H400v160ZM180-400h160v-160H180v160Zm440 0h160v-160H620v160ZM180-180h160v-160H180v160Zm440 0h160v-160H620v160Z\"/>\n",
              "  </svg>\n",
              "    </button>\n",
              "\n",
              "  <style>\n",
              "    .colab-df-container {\n",
              "      display:flex;\n",
              "      gap: 12px;\n",
              "    }\n",
              "\n",
              "    .colab-df-convert {\n",
              "      background-color: #E8F0FE;\n",
              "      border: none;\n",
              "      border-radius: 50%;\n",
              "      cursor: pointer;\n",
              "      display: none;\n",
              "      fill: #1967D2;\n",
              "      height: 32px;\n",
              "      padding: 0 0 0 0;\n",
              "      width: 32px;\n",
              "    }\n",
              "\n",
              "    .colab-df-convert:hover {\n",
              "      background-color: #E2EBFA;\n",
              "      box-shadow: 0px 1px 2px rgba(60, 64, 67, 0.3), 0px 1px 3px 1px rgba(60, 64, 67, 0.15);\n",
              "      fill: #174EA6;\n",
              "    }\n",
              "\n",
              "    .colab-df-buttons div {\n",
              "      margin-bottom: 4px;\n",
              "    }\n",
              "\n",
              "    [theme=dark] .colab-df-convert {\n",
              "      background-color: #3B4455;\n",
              "      fill: #D2E3FC;\n",
              "    }\n",
              "\n",
              "    [theme=dark] .colab-df-convert:hover {\n",
              "      background-color: #434B5C;\n",
              "      box-shadow: 0px 1px 3px 1px rgba(0, 0, 0, 0.15);\n",
              "      filter: drop-shadow(0px 1px 2px rgba(0, 0, 0, 0.3));\n",
              "      fill: #FFFFFF;\n",
              "    }\n",
              "  </style>\n",
              "\n",
              "    <script>\n",
              "      const buttonEl =\n",
              "        document.querySelector('#df-6248e563-354d-4313-bc26-4cd172082b3c button.colab-df-convert');\n",
              "      buttonEl.style.display =\n",
              "        google.colab.kernel.accessAllowed ? 'block' : 'none';\n",
              "\n",
              "      async function convertToInteractive(key) {\n",
              "        const element = document.querySelector('#df-6248e563-354d-4313-bc26-4cd172082b3c');\n",
              "        const dataTable =\n",
              "          await google.colab.kernel.invokeFunction('convertToInteractive',\n",
              "                                                    [key], {});\n",
              "        if (!dataTable) return;\n",
              "\n",
              "        const docLinkHtml = 'Like what you see? Visit the ' +\n",
              "          '<a target=\"_blank\" href=https://colab.research.google.com/notebooks/data_table.ipynb>data table notebook</a>'\n",
              "          + ' to learn more about interactive tables.';\n",
              "        element.innerHTML = '';\n",
              "        dataTable['output_type'] = 'display_data';\n",
              "        await google.colab.output.renderOutput(dataTable, element);\n",
              "        const docLink = document.createElement('div');\n",
              "        docLink.innerHTML = docLinkHtml;\n",
              "        element.appendChild(docLink);\n",
              "      }\n",
              "    </script>\n",
              "  </div>\n",
              "\n",
              "\n",
              "<div id=\"df-811d38e6-9d2f-431e-ac75-7852f403c132\">\n",
              "  <button class=\"colab-df-quickchart\" onclick=\"quickchart('df-811d38e6-9d2f-431e-ac75-7852f403c132')\"\n",
              "            title=\"Suggest charts\"\n",
              "            style=\"display:none;\">\n",
              "\n",
              "<svg xmlns=\"http://www.w3.org/2000/svg\" height=\"24px\"viewBox=\"0 0 24 24\"\n",
              "     width=\"24px\">\n",
              "    <g>\n",
              "        <path d=\"M19 3H5c-1.1 0-2 .9-2 2v14c0 1.1.9 2 2 2h14c1.1 0 2-.9 2-2V5c0-1.1-.9-2-2-2zM9 17H7v-7h2v7zm4 0h-2V7h2v10zm4 0h-2v-4h2v4z\"/>\n",
              "    </g>\n",
              "</svg>\n",
              "  </button>\n",
              "\n",
              "<style>\n",
              "  .colab-df-quickchart {\n",
              "      --bg-color: #E8F0FE;\n",
              "      --fill-color: #1967D2;\n",
              "      --hover-bg-color: #E2EBFA;\n",
              "      --hover-fill-color: #174EA6;\n",
              "      --disabled-fill-color: #AAA;\n",
              "      --disabled-bg-color: #DDD;\n",
              "  }\n",
              "\n",
              "  [theme=dark] .colab-df-quickchart {\n",
              "      --bg-color: #3B4455;\n",
              "      --fill-color: #D2E3FC;\n",
              "      --hover-bg-color: #434B5C;\n",
              "      --hover-fill-color: #FFFFFF;\n",
              "      --disabled-bg-color: #3B4455;\n",
              "      --disabled-fill-color: #666;\n",
              "  }\n",
              "\n",
              "  .colab-df-quickchart {\n",
              "    background-color: var(--bg-color);\n",
              "    border: none;\n",
              "    border-radius: 50%;\n",
              "    cursor: pointer;\n",
              "    display: none;\n",
              "    fill: var(--fill-color);\n",
              "    height: 32px;\n",
              "    padding: 0;\n",
              "    width: 32px;\n",
              "  }\n",
              "\n",
              "  .colab-df-quickchart:hover {\n",
              "    background-color: var(--hover-bg-color);\n",
              "    box-shadow: 0 1px 2px rgba(60, 64, 67, 0.3), 0 1px 3px 1px rgba(60, 64, 67, 0.15);\n",
              "    fill: var(--button-hover-fill-color);\n",
              "  }\n",
              "\n",
              "  .colab-df-quickchart-complete:disabled,\n",
              "  .colab-df-quickchart-complete:disabled:hover {\n",
              "    background-color: var(--disabled-bg-color);\n",
              "    fill: var(--disabled-fill-color);\n",
              "    box-shadow: none;\n",
              "  }\n",
              "\n",
              "  .colab-df-spinner {\n",
              "    border: 2px solid var(--fill-color);\n",
              "    border-color: transparent;\n",
              "    border-bottom-color: var(--fill-color);\n",
              "    animation:\n",
              "      spin 1s steps(1) infinite;\n",
              "  }\n",
              "\n",
              "  @keyframes spin {\n",
              "    0% {\n",
              "      border-color: transparent;\n",
              "      border-bottom-color: var(--fill-color);\n",
              "      border-left-color: var(--fill-color);\n",
              "    }\n",
              "    20% {\n",
              "      border-color: transparent;\n",
              "      border-left-color: var(--fill-color);\n",
              "      border-top-color: var(--fill-color);\n",
              "    }\n",
              "    30% {\n",
              "      border-color: transparent;\n",
              "      border-left-color: var(--fill-color);\n",
              "      border-top-color: var(--fill-color);\n",
              "      border-right-color: var(--fill-color);\n",
              "    }\n",
              "    40% {\n",
              "      border-color: transparent;\n",
              "      border-right-color: var(--fill-color);\n",
              "      border-top-color: var(--fill-color);\n",
              "    }\n",
              "    60% {\n",
              "      border-color: transparent;\n",
              "      border-right-color: var(--fill-color);\n",
              "    }\n",
              "    80% {\n",
              "      border-color: transparent;\n",
              "      border-right-color: var(--fill-color);\n",
              "      border-bottom-color: var(--fill-color);\n",
              "    }\n",
              "    90% {\n",
              "      border-color: transparent;\n",
              "      border-bottom-color: var(--fill-color);\n",
              "    }\n",
              "  }\n",
              "</style>\n",
              "\n",
              "  <script>\n",
              "    async function quickchart(key) {\n",
              "      const quickchartButtonEl =\n",
              "        document.querySelector('#' + key + ' button');\n",
              "      quickchartButtonEl.disabled = true;  // To prevent multiple clicks.\n",
              "      quickchartButtonEl.classList.add('colab-df-spinner');\n",
              "      try {\n",
              "        const charts = await google.colab.kernel.invokeFunction(\n",
              "            'suggestCharts', [key], {});\n",
              "      } catch (error) {\n",
              "        console.error('Error during call to suggestCharts:', error);\n",
              "      }\n",
              "      quickchartButtonEl.classList.remove('colab-df-spinner');\n",
              "      quickchartButtonEl.classList.add('colab-df-quickchart-complete');\n",
              "    }\n",
              "    (() => {\n",
              "      let quickchartButtonEl =\n",
              "        document.querySelector('#df-811d38e6-9d2f-431e-ac75-7852f403c132 button');\n",
              "      quickchartButtonEl.style.display =\n",
              "        google.colab.kernel.accessAllowed ? 'block' : 'none';\n",
              "    })();\n",
              "  </script>\n",
              "</div>\n",
              "\n",
              "    </div>\n",
              "  </div>\n"
            ]
          },
          "metadata": {},
          "execution_count": 6
        }
      ],
      "source": [
        "df.head()"
      ]
    },
    {
      "cell_type": "code",
      "execution_count": null,
      "metadata": {
        "id": "X6y79tpvqI-Z"
      },
      "outputs": [],
      "source": [
        "df['Type of defect'] = df['Type of defect'].apply(lambda x: 1 if x == 'No defect' else 0)"
      ]
    },
    {
      "cell_type": "code",
      "execution_count": null,
      "metadata": {
        "id": "5uCBVauOwCp6"
      },
      "outputs": [],
      "source": [
        "\n",
        "df.drop(['Motor details', 'Status'], axis=1, inplace=True)\n"
      ]
    },
    {
      "cell_type": "code",
      "execution_count": null,
      "metadata": {
        "colab": {
          "base_uri": "https://localhost:8080/",
          "height": 206
        },
        "id": "2AuSeYb5qcxt",
        "outputId": "51be075b-b2d2-4136-91aa-1955fe629769"
      },
      "outputs": [
        {
          "output_type": "execute_result",
          "data": {
            "text/plain": [
              "            File Name  Type of defect                         path\n",
              "0                5JKR               0                Data/5JKR.dcm\n",
              "1             140-164               0             Data/140-164.dcm\n",
              "2  2202897-VEDA-F4-B7               0  Data/2202897-VEDA-F4-B7.dcm\n",
              "3  2202897-VEDA-F4-B8               0  Data/2202897-VEDA-F4-B8.dcm\n",
              "4          2206915-B1               0          Data/2206915-B1.dcm"
            ],
            "text/html": [
              "\n",
              "  <div id=\"df-8ab00921-0da1-4e82-a2f3-f1dfeada1092\" class=\"colab-df-container\">\n",
              "    <div>\n",
              "<style scoped>\n",
              "    .dataframe tbody tr th:only-of-type {\n",
              "        vertical-align: middle;\n",
              "    }\n",
              "\n",
              "    .dataframe tbody tr th {\n",
              "        vertical-align: top;\n",
              "    }\n",
              "\n",
              "    .dataframe thead th {\n",
              "        text-align: right;\n",
              "    }\n",
              "</style>\n",
              "<table border=\"1\" class=\"dataframe\">\n",
              "  <thead>\n",
              "    <tr style=\"text-align: right;\">\n",
              "      <th></th>\n",
              "      <th>File Name</th>\n",
              "      <th>Type of defect</th>\n",
              "      <th>path</th>\n",
              "    </tr>\n",
              "  </thead>\n",
              "  <tbody>\n",
              "    <tr>\n",
              "      <th>0</th>\n",
              "      <td>5JKR</td>\n",
              "      <td>0</td>\n",
              "      <td>Data/5JKR.dcm</td>\n",
              "    </tr>\n",
              "    <tr>\n",
              "      <th>1</th>\n",
              "      <td>140-164</td>\n",
              "      <td>0</td>\n",
              "      <td>Data/140-164.dcm</td>\n",
              "    </tr>\n",
              "    <tr>\n",
              "      <th>2</th>\n",
              "      <td>2202897-VEDA-F4-B7</td>\n",
              "      <td>0</td>\n",
              "      <td>Data/2202897-VEDA-F4-B7.dcm</td>\n",
              "    </tr>\n",
              "    <tr>\n",
              "      <th>3</th>\n",
              "      <td>2202897-VEDA-F4-B8</td>\n",
              "      <td>0</td>\n",
              "      <td>Data/2202897-VEDA-F4-B8.dcm</td>\n",
              "    </tr>\n",
              "    <tr>\n",
              "      <th>4</th>\n",
              "      <td>2206915-B1</td>\n",
              "      <td>0</td>\n",
              "      <td>Data/2206915-B1.dcm</td>\n",
              "    </tr>\n",
              "  </tbody>\n",
              "</table>\n",
              "</div>\n",
              "    <div class=\"colab-df-buttons\">\n",
              "\n",
              "  <div class=\"colab-df-container\">\n",
              "    <button class=\"colab-df-convert\" onclick=\"convertToInteractive('df-8ab00921-0da1-4e82-a2f3-f1dfeada1092')\"\n",
              "            title=\"Convert this dataframe to an interactive table.\"\n",
              "            style=\"display:none;\">\n",
              "\n",
              "  <svg xmlns=\"http://www.w3.org/2000/svg\" height=\"24px\" viewBox=\"0 -960 960 960\">\n",
              "    <path d=\"M120-120v-720h720v720H120Zm60-500h600v-160H180v160Zm220 220h160v-160H400v160Zm0 220h160v-160H400v160ZM180-400h160v-160H180v160Zm440 0h160v-160H620v160ZM180-180h160v-160H180v160Zm440 0h160v-160H620v160Z\"/>\n",
              "  </svg>\n",
              "    </button>\n",
              "\n",
              "  <style>\n",
              "    .colab-df-container {\n",
              "      display:flex;\n",
              "      gap: 12px;\n",
              "    }\n",
              "\n",
              "    .colab-df-convert {\n",
              "      background-color: #E8F0FE;\n",
              "      border: none;\n",
              "      border-radius: 50%;\n",
              "      cursor: pointer;\n",
              "      display: none;\n",
              "      fill: #1967D2;\n",
              "      height: 32px;\n",
              "      padding: 0 0 0 0;\n",
              "      width: 32px;\n",
              "    }\n",
              "\n",
              "    .colab-df-convert:hover {\n",
              "      background-color: #E2EBFA;\n",
              "      box-shadow: 0px 1px 2px rgba(60, 64, 67, 0.3), 0px 1px 3px 1px rgba(60, 64, 67, 0.15);\n",
              "      fill: #174EA6;\n",
              "    }\n",
              "\n",
              "    .colab-df-buttons div {\n",
              "      margin-bottom: 4px;\n",
              "    }\n",
              "\n",
              "    [theme=dark] .colab-df-convert {\n",
              "      background-color: #3B4455;\n",
              "      fill: #D2E3FC;\n",
              "    }\n",
              "\n",
              "    [theme=dark] .colab-df-convert:hover {\n",
              "      background-color: #434B5C;\n",
              "      box-shadow: 0px 1px 3px 1px rgba(0, 0, 0, 0.15);\n",
              "      filter: drop-shadow(0px 1px 2px rgba(0, 0, 0, 0.3));\n",
              "      fill: #FFFFFF;\n",
              "    }\n",
              "  </style>\n",
              "\n",
              "    <script>\n",
              "      const buttonEl =\n",
              "        document.querySelector('#df-8ab00921-0da1-4e82-a2f3-f1dfeada1092 button.colab-df-convert');\n",
              "      buttonEl.style.display =\n",
              "        google.colab.kernel.accessAllowed ? 'block' : 'none';\n",
              "\n",
              "      async function convertToInteractive(key) {\n",
              "        const element = document.querySelector('#df-8ab00921-0da1-4e82-a2f3-f1dfeada1092');\n",
              "        const dataTable =\n",
              "          await google.colab.kernel.invokeFunction('convertToInteractive',\n",
              "                                                    [key], {});\n",
              "        if (!dataTable) return;\n",
              "\n",
              "        const docLinkHtml = 'Like what you see? Visit the ' +\n",
              "          '<a target=\"_blank\" href=https://colab.research.google.com/notebooks/data_table.ipynb>data table notebook</a>'\n",
              "          + ' to learn more about interactive tables.';\n",
              "        element.innerHTML = '';\n",
              "        dataTable['output_type'] = 'display_data';\n",
              "        await google.colab.output.renderOutput(dataTable, element);\n",
              "        const docLink = document.createElement('div');\n",
              "        docLink.innerHTML = docLinkHtml;\n",
              "        element.appendChild(docLink);\n",
              "      }\n",
              "    </script>\n",
              "  </div>\n",
              "\n",
              "\n",
              "<div id=\"df-b66cf1d5-54bb-44ab-ae9c-3809672e7114\">\n",
              "  <button class=\"colab-df-quickchart\" onclick=\"quickchart('df-b66cf1d5-54bb-44ab-ae9c-3809672e7114')\"\n",
              "            title=\"Suggest charts\"\n",
              "            style=\"display:none;\">\n",
              "\n",
              "<svg xmlns=\"http://www.w3.org/2000/svg\" height=\"24px\"viewBox=\"0 0 24 24\"\n",
              "     width=\"24px\">\n",
              "    <g>\n",
              "        <path d=\"M19 3H5c-1.1 0-2 .9-2 2v14c0 1.1.9 2 2 2h14c1.1 0 2-.9 2-2V5c0-1.1-.9-2-2-2zM9 17H7v-7h2v7zm4 0h-2V7h2v10zm4 0h-2v-4h2v4z\"/>\n",
              "    </g>\n",
              "</svg>\n",
              "  </button>\n",
              "\n",
              "<style>\n",
              "  .colab-df-quickchart {\n",
              "      --bg-color: #E8F0FE;\n",
              "      --fill-color: #1967D2;\n",
              "      --hover-bg-color: #E2EBFA;\n",
              "      --hover-fill-color: #174EA6;\n",
              "      --disabled-fill-color: #AAA;\n",
              "      --disabled-bg-color: #DDD;\n",
              "  }\n",
              "\n",
              "  [theme=dark] .colab-df-quickchart {\n",
              "      --bg-color: #3B4455;\n",
              "      --fill-color: #D2E3FC;\n",
              "      --hover-bg-color: #434B5C;\n",
              "      --hover-fill-color: #FFFFFF;\n",
              "      --disabled-bg-color: #3B4455;\n",
              "      --disabled-fill-color: #666;\n",
              "  }\n",
              "\n",
              "  .colab-df-quickchart {\n",
              "    background-color: var(--bg-color);\n",
              "    border: none;\n",
              "    border-radius: 50%;\n",
              "    cursor: pointer;\n",
              "    display: none;\n",
              "    fill: var(--fill-color);\n",
              "    height: 32px;\n",
              "    padding: 0;\n",
              "    width: 32px;\n",
              "  }\n",
              "\n",
              "  .colab-df-quickchart:hover {\n",
              "    background-color: var(--hover-bg-color);\n",
              "    box-shadow: 0 1px 2px rgba(60, 64, 67, 0.3), 0 1px 3px 1px rgba(60, 64, 67, 0.15);\n",
              "    fill: var(--button-hover-fill-color);\n",
              "  }\n",
              "\n",
              "  .colab-df-quickchart-complete:disabled,\n",
              "  .colab-df-quickchart-complete:disabled:hover {\n",
              "    background-color: var(--disabled-bg-color);\n",
              "    fill: var(--disabled-fill-color);\n",
              "    box-shadow: none;\n",
              "  }\n",
              "\n",
              "  .colab-df-spinner {\n",
              "    border: 2px solid var(--fill-color);\n",
              "    border-color: transparent;\n",
              "    border-bottom-color: var(--fill-color);\n",
              "    animation:\n",
              "      spin 1s steps(1) infinite;\n",
              "  }\n",
              "\n",
              "  @keyframes spin {\n",
              "    0% {\n",
              "      border-color: transparent;\n",
              "      border-bottom-color: var(--fill-color);\n",
              "      border-left-color: var(--fill-color);\n",
              "    }\n",
              "    20% {\n",
              "      border-color: transparent;\n",
              "      border-left-color: var(--fill-color);\n",
              "      border-top-color: var(--fill-color);\n",
              "    }\n",
              "    30% {\n",
              "      border-color: transparent;\n",
              "      border-left-color: var(--fill-color);\n",
              "      border-top-color: var(--fill-color);\n",
              "      border-right-color: var(--fill-color);\n",
              "    }\n",
              "    40% {\n",
              "      border-color: transparent;\n",
              "      border-right-color: var(--fill-color);\n",
              "      border-top-color: var(--fill-color);\n",
              "    }\n",
              "    60% {\n",
              "      border-color: transparent;\n",
              "      border-right-color: var(--fill-color);\n",
              "    }\n",
              "    80% {\n",
              "      border-color: transparent;\n",
              "      border-right-color: var(--fill-color);\n",
              "      border-bottom-color: var(--fill-color);\n",
              "    }\n",
              "    90% {\n",
              "      border-color: transparent;\n",
              "      border-bottom-color: var(--fill-color);\n",
              "    }\n",
              "  }\n",
              "</style>\n",
              "\n",
              "  <script>\n",
              "    async function quickchart(key) {\n",
              "      const quickchartButtonEl =\n",
              "        document.querySelector('#' + key + ' button');\n",
              "      quickchartButtonEl.disabled = true;  // To prevent multiple clicks.\n",
              "      quickchartButtonEl.classList.add('colab-df-spinner');\n",
              "      try {\n",
              "        const charts = await google.colab.kernel.invokeFunction(\n",
              "            'suggestCharts', [key], {});\n",
              "      } catch (error) {\n",
              "        console.error('Error during call to suggestCharts:', error);\n",
              "      }\n",
              "      quickchartButtonEl.classList.remove('colab-df-spinner');\n",
              "      quickchartButtonEl.classList.add('colab-df-quickchart-complete');\n",
              "    }\n",
              "    (() => {\n",
              "      let quickchartButtonEl =\n",
              "        document.querySelector('#df-b66cf1d5-54bb-44ab-ae9c-3809672e7114 button');\n",
              "      quickchartButtonEl.style.display =\n",
              "        google.colab.kernel.accessAllowed ? 'block' : 'none';\n",
              "    })();\n",
              "  </script>\n",
              "</div>\n",
              "\n",
              "    </div>\n",
              "  </div>\n"
            ]
          },
          "metadata": {},
          "execution_count": 9
        }
      ],
      "source": [
        "df.head()"
      ]
    },
    {
      "cell_type": "code",
      "execution_count": null,
      "metadata": {
        "colab": {
          "base_uri": "https://localhost:8080/"
        },
        "id": "ogFFxW-DqgBi",
        "outputId": "1d392f29-c99d-4c0d-8e0c-6f2f9330decb"
      },
      "outputs": [
        {
          "output_type": "execute_result",
          "data": {
            "text/plain": [
              "1    52\n",
              "0    34\n",
              "Name: Type of defect, dtype: int64"
            ]
          },
          "metadata": {},
          "execution_count": 10
        }
      ],
      "source": [
        "df['Type of defect'].value_counts()"
      ]
    },
    {
      "cell_type": "markdown",
      "metadata": {
        "id": "JeBvF6QIqmpI"
      },
      "source": [
        "There are 52 images which shows that there is no defect and 34 images which shows tht there is 34 images with defect"
      ]
    },
    {
      "cell_type": "code",
      "execution_count": null,
      "metadata": {
        "colab": {
          "base_uri": "https://localhost:8080/"
        },
        "id": "YFCRPO-6qmN9",
        "outputId": "504f5324-ccc0-47ed-cae7-54766a2434d3"
      },
      "outputs": [
        {
          "output_type": "execute_result",
          "data": {
            "text/plain": [
              "<bound method NDFrame.describe of               File Name  Type of defect                         path\n",
              "0                  5JKR               0                Data/5JKR.dcm\n",
              "1               140-164               0             Data/140-164.dcm\n",
              "2    2202897-VEDA-F4-B7               0  Data/2202897-VEDA-F4-B7.dcm\n",
              "3    2202897-VEDA-F4-B8               0  Data/2202897-VEDA-F4-B8.dcm\n",
              "4            2206915-B1               0          Data/2206915-B1.dcm\n",
              "..                  ...             ...                          ...\n",
              "101               10P-T               1               Data/10P-T.dcm\n",
              "102               10R-T               1               Data/10R-T.dcm\n",
              "103               10V-T               0               Data/10V-T.dcm\n",
              "104               10W-T               1               Data/10W-T.dcm\n",
              "105               10X-T               1               Data/10X-T.dcm\n",
              "\n",
              "[86 rows x 3 columns]>"
            ]
          },
          "metadata": {},
          "execution_count": 11
        }
      ],
      "source": [
        "df.describe"
      ]
    },
    {
      "cell_type": "code",
      "execution_count": null,
      "metadata": {
        "colab": {
          "base_uri": "https://localhost:8080/"
        },
        "id": "yQpFnvp8q8XN",
        "outputId": "33d285e8-c8ec-45e7-ba93-b2894c9e5a34"
      },
      "outputs": [
        {
          "output_type": "execute_result",
          "data": {
            "text/plain": [
              "(86, 3)"
            ]
          },
          "metadata": {},
          "execution_count": 12
        }
      ],
      "source": [
        "df.shape"
      ]
    },
    {
      "cell_type": "code",
      "source": [
        "!pip install pydicom"
      ],
      "metadata": {
        "colab": {
          "base_uri": "https://localhost:8080/"
        },
        "id": "IAZxql3xtxjk",
        "outputId": "a02582c3-fc52-49d5-bd4f-16918ac059b1"
      },
      "execution_count": null,
      "outputs": [
        {
          "output_type": "stream",
          "name": "stdout",
          "text": [
            "Collecting pydicom\n",
            "  Downloading pydicom-2.4.4-py3-none-any.whl (1.8 MB)\n",
            "\u001b[2K     \u001b[90m━━━━━━━━━━━━━━━━━━━━━━━━━━━━━━━━━━━━━━━━\u001b[0m \u001b[32m1.8/1.8 MB\u001b[0m \u001b[31m9.2 MB/s\u001b[0m eta \u001b[36m0:00:00\u001b[0m\n",
            "\u001b[?25hInstalling collected packages: pydicom\n",
            "Successfully installed pydicom-2.4.4\n"
          ]
        }
      ]
    },
    {
      "cell_type": "code",
      "execution_count": null,
      "metadata": {
        "id": "mnfAIRthqiev"
      },
      "outputs": [],
      "source": [
        "import pydicom\n",
        "import numpy as np\n",
        "\n",
        "def dicom_to_numpy(dicom_file_path):\n",
        "    # Read the DICOM file\n",
        "    dicom_data = pydicom.dcmread(dicom_file_path)\n",
        "\n",
        "    # Extract pixel data from the DICOM file\n",
        "    pixel_data = dicom_data.pixel_array\n",
        "\n",
        "    return pixel_data"
      ]
    },
    {
      "cell_type": "code",
      "execution_count": null,
      "metadata": {
        "colab": {
          "base_uri": "https://localhost:8080/",
          "height": 356
        },
        "id": "hRJhPLe9rEm7",
        "outputId": "dd41e07b-bde7-404e-c761-c2514135c062"
      },
      "outputs": [
        {
          "output_type": "error",
          "ename": "FileNotFoundError",
          "evalue": "[Errno 2] No such file or directory: 'Data/A5.dcm'",
          "traceback": [
            "\u001b[0;31m---------------------------------------------------------------------------\u001b[0m",
            "\u001b[0;31mFileNotFoundError\u001b[0m                         Traceback (most recent call last)",
            "\u001b[0;32m<ipython-input-16-208f7a6b7b62>\u001b[0m in \u001b[0;36m<cell line: 2>\u001b[0;34m()\u001b[0m\n\u001b[1;32m      1\u001b[0m \u001b[0;32mimport\u001b[0m \u001b[0mmatplotlib\u001b[0m\u001b[0;34m.\u001b[0m\u001b[0mpyplot\u001b[0m \u001b[0;32mas\u001b[0m \u001b[0mplt\u001b[0m\u001b[0;34m\u001b[0m\u001b[0;34m\u001b[0m\u001b[0m\n\u001b[0;32m----> 2\u001b[0;31m \u001b[0marr\u001b[0m \u001b[0;34m=\u001b[0m \u001b[0mdicom_to_numpy\u001b[0m\u001b[0;34m(\u001b[0m\u001b[0mdf\u001b[0m\u001b[0;34m[\u001b[0m\u001b[0;34m'path'\u001b[0m\u001b[0;34m]\u001b[0m\u001b[0;34m[\u001b[0m\u001b[0;36m17\u001b[0m\u001b[0;34m]\u001b[0m\u001b[0;34m)\u001b[0m\u001b[0;34m\u001b[0m\u001b[0;34m\u001b[0m\u001b[0m\n\u001b[0m\u001b[1;32m      3\u001b[0m \u001b[0mplt\u001b[0m\u001b[0;34m.\u001b[0m\u001b[0mimshow\u001b[0m\u001b[0;34m(\u001b[0m\u001b[0marr\u001b[0m\u001b[0;34m,\u001b[0m \u001b[0mcmap\u001b[0m\u001b[0;34m=\u001b[0m\u001b[0;34m\"gray\"\u001b[0m\u001b[0;34m)\u001b[0m\u001b[0;34m\u001b[0m\u001b[0;34m\u001b[0m\u001b[0m\n",
            "\u001b[0;32m<ipython-input-15-b5bde8d87a7f>\u001b[0m in \u001b[0;36mdicom_to_numpy\u001b[0;34m(dicom_file_path)\u001b[0m\n\u001b[1;32m      4\u001b[0m \u001b[0;32mdef\u001b[0m \u001b[0mdicom_to_numpy\u001b[0m\u001b[0;34m(\u001b[0m\u001b[0mdicom_file_path\u001b[0m\u001b[0;34m)\u001b[0m\u001b[0;34m:\u001b[0m\u001b[0;34m\u001b[0m\u001b[0;34m\u001b[0m\u001b[0m\n\u001b[1;32m      5\u001b[0m     \u001b[0;31m# Read the DICOM file\u001b[0m\u001b[0;34m\u001b[0m\u001b[0;34m\u001b[0m\u001b[0m\n\u001b[0;32m----> 6\u001b[0;31m     \u001b[0mdicom_data\u001b[0m \u001b[0;34m=\u001b[0m \u001b[0mpydicom\u001b[0m\u001b[0;34m.\u001b[0m\u001b[0mdcmread\u001b[0m\u001b[0;34m(\u001b[0m\u001b[0mdicom_file_path\u001b[0m\u001b[0;34m)\u001b[0m\u001b[0;34m\u001b[0m\u001b[0;34m\u001b[0m\u001b[0m\n\u001b[0m\u001b[1;32m      7\u001b[0m \u001b[0;34m\u001b[0m\u001b[0m\n\u001b[1;32m      8\u001b[0m     \u001b[0;31m# Extract pixel data from the DICOM file\u001b[0m\u001b[0;34m\u001b[0m\u001b[0;34m\u001b[0m\u001b[0m\n",
            "\u001b[0;32m/usr/local/lib/python3.10/dist-packages/pydicom/filereader.py\u001b[0m in \u001b[0;36mdcmread\u001b[0;34m(fp, defer_size, stop_before_pixels, force, specific_tags)\u001b[0m\n\u001b[1;32m   1000\u001b[0m         \u001b[0mcaller_owns_file\u001b[0m \u001b[0;34m=\u001b[0m \u001b[0;32mFalse\u001b[0m\u001b[0;34m\u001b[0m\u001b[0;34m\u001b[0m\u001b[0m\n\u001b[1;32m   1001\u001b[0m         \u001b[0mlogger\u001b[0m\u001b[0;34m.\u001b[0m\u001b[0mdebug\u001b[0m\u001b[0;34m(\u001b[0m\u001b[0;34m\"Reading file '{0}'\"\u001b[0m\u001b[0;34m.\u001b[0m\u001b[0mformat\u001b[0m\u001b[0;34m(\u001b[0m\u001b[0mfp\u001b[0m\u001b[0;34m)\u001b[0m\u001b[0;34m)\u001b[0m\u001b[0;34m\u001b[0m\u001b[0;34m\u001b[0m\u001b[0m\n\u001b[0;32m-> 1002\u001b[0;31m         \u001b[0mfp\u001b[0m \u001b[0;34m=\u001b[0m \u001b[0mopen\u001b[0m\u001b[0;34m(\u001b[0m\u001b[0mfp\u001b[0m\u001b[0;34m,\u001b[0m \u001b[0;34m'rb'\u001b[0m\u001b[0;34m)\u001b[0m\u001b[0;34m\u001b[0m\u001b[0;34m\u001b[0m\u001b[0m\n\u001b[0m\u001b[1;32m   1003\u001b[0m     \u001b[0;32melif\u001b[0m \u001b[0mfp\u001b[0m \u001b[0;32mis\u001b[0m \u001b[0;32mNone\u001b[0m \u001b[0;32mor\u001b[0m \u001b[0;32mnot\u001b[0m \u001b[0mhasattr\u001b[0m\u001b[0;34m(\u001b[0m\u001b[0mfp\u001b[0m\u001b[0;34m,\u001b[0m \u001b[0;34m\"read\"\u001b[0m\u001b[0;34m)\u001b[0m \u001b[0;32mor\u001b[0m \u001b[0;32mnot\u001b[0m \u001b[0mhasattr\u001b[0m\u001b[0;34m(\u001b[0m\u001b[0mfp\u001b[0m\u001b[0;34m,\u001b[0m \u001b[0;34m\"seek\"\u001b[0m\u001b[0;34m)\u001b[0m\u001b[0;34m:\u001b[0m\u001b[0;34m\u001b[0m\u001b[0;34m\u001b[0m\u001b[0m\n\u001b[1;32m   1004\u001b[0m         raise TypeError(\"dcmread: Expected a file path or a file-like, \"\n",
            "\u001b[0;31mFileNotFoundError\u001b[0m: [Errno 2] No such file or directory: 'Data/A5.dcm'"
          ]
        }
      ],
      "source": [
        "import matplotlib.pyplot as plt\n",
        "arr = dicom_to_numpy(df['path'][17])\n",
        "plt.imshow(arr, cmap=\"gray\")"
      ]
    },
    {
      "cell_type": "code",
      "execution_count": null,
      "metadata": {
        "id": "_UlKXf08s2wa"
      },
      "outputs": [],
      "source": [
        "# Create a directory to store folders\n",
        "import pandas as pd\n",
        "import os\n",
        "base_folder = 'Class'\n",
        "os.makedirs(base_folder, exist_ok=True)\n",
        "\n",
        "# Iterate through unique classes and create folders\n",
        "for class_name in df['Type of defect'].unique():\n",
        "    class_folder = os.path.join(base_folder, str(class_name))\n",
        "    os.makedirs(class_folder, exist_ok=True)"
      ]
    },
    {
      "cell_type": "code",
      "execution_count": null,
      "metadata": {
        "id": "rKi4DARFva-N"
      },
      "outputs": [],
      "source": [
        "import shutil\n",
        "for index, row in df.iterrows():\n",
        "    image_path = os.path.join('Class', str(row['Type of defect']), f\"{row['File Name']}.dcm\")\n",
        "    # Assuming you have the images in the same folder as the script, adjust the path accordingly\n",
        "    source_path = os.path.join('Data', f\"{row['File Name']}.dcm\")\n",
        "    try:\n",
        "        # Move the file to the destination folder\n",
        "        shutil.move(source_path, image_path)\n",
        "        print(f\"File {row['File Name']} moved to {row['Type of defect']} folder.\")\n",
        "    except Exception as e:\n",
        "        print(f\"Error moving file {row['File Name']}: {str(e)}\")\n"
      ]
    },
    {
      "cell_type": "code",
      "execution_count": null,
      "metadata": {
        "colab": {
          "base_uri": "https://localhost:8080/",
          "height": 424
        },
        "id": "kbPLOz744md-",
        "outputId": "10f9aef4-1d01-4004-ecd6-d300c0092083"
      },
      "outputs": [
        {
          "output_type": "execute_result",
          "data": {
            "text/plain": [
              "                      image_file result  \\\n",
              "0             0/24 25U-T.dcm.png      0   \n",
              "1             0/24 25N-T.dcm.png      0   \n",
              "2              0/140-164.dcm.png      0   \n",
              "3                0/10H-T.dcm.png      0   \n",
              "4   0/2202897-VEDA-F4-B8.dcm.png      0   \n",
              "..                           ...    ...   \n",
              "68            1/24 25H-T.dcm.png      1   \n",
              "69               1/10W-T.dcm.png      1   \n",
              "70               1/10L-T.dcm.png      1   \n",
              "71               1/10N-T.dcm.png      1   \n",
              "72            1/24 25J-T.dcm.png      1   \n",
              "\n",
              "                                                 path  \n",
              "0   /content/drive/MyDrive/ClassPng/0/24 25U-T.dcm...  \n",
              "1   /content/drive/MyDrive/ClassPng/0/24 25N-T.dcm...  \n",
              "2   /content/drive/MyDrive/ClassPng/0/140-164.dcm.png  \n",
              "3     /content/drive/MyDrive/ClassPng/0/10H-T.dcm.png  \n",
              "4   /content/drive/MyDrive/ClassPng/0/2202897-VEDA...  \n",
              "..                                                ...  \n",
              "68  /content/drive/MyDrive/ClassPng/1/24 25H-T.dcm...  \n",
              "69    /content/drive/MyDrive/ClassPng/1/10W-T.dcm.png  \n",
              "70    /content/drive/MyDrive/ClassPng/1/10L-T.dcm.png  \n",
              "71    /content/drive/MyDrive/ClassPng/1/10N-T.dcm.png  \n",
              "72  /content/drive/MyDrive/ClassPng/1/24 25J-T.dcm...  \n",
              "\n",
              "[73 rows x 3 columns]"
            ],
            "text/html": [
              "\n",
              "  <div id=\"df-47b7a54b-1a03-4c0f-8f0a-cf81b8415bbf\" class=\"colab-df-container\">\n",
              "    <div>\n",
              "<style scoped>\n",
              "    .dataframe tbody tr th:only-of-type {\n",
              "        vertical-align: middle;\n",
              "    }\n",
              "\n",
              "    .dataframe tbody tr th {\n",
              "        vertical-align: top;\n",
              "    }\n",
              "\n",
              "    .dataframe thead th {\n",
              "        text-align: right;\n",
              "    }\n",
              "</style>\n",
              "<table border=\"1\" class=\"dataframe\">\n",
              "  <thead>\n",
              "    <tr style=\"text-align: right;\">\n",
              "      <th></th>\n",
              "      <th>image_file</th>\n",
              "      <th>result</th>\n",
              "      <th>path</th>\n",
              "    </tr>\n",
              "  </thead>\n",
              "  <tbody>\n",
              "    <tr>\n",
              "      <th>0</th>\n",
              "      <td>0/24 25U-T.dcm.png</td>\n",
              "      <td>0</td>\n",
              "      <td>/content/drive/MyDrive/ClassPng/0/24 25U-T.dcm...</td>\n",
              "    </tr>\n",
              "    <tr>\n",
              "      <th>1</th>\n",
              "      <td>0/24 25N-T.dcm.png</td>\n",
              "      <td>0</td>\n",
              "      <td>/content/drive/MyDrive/ClassPng/0/24 25N-T.dcm...</td>\n",
              "    </tr>\n",
              "    <tr>\n",
              "      <th>2</th>\n",
              "      <td>0/140-164.dcm.png</td>\n",
              "      <td>0</td>\n",
              "      <td>/content/drive/MyDrive/ClassPng/0/140-164.dcm.png</td>\n",
              "    </tr>\n",
              "    <tr>\n",
              "      <th>3</th>\n",
              "      <td>0/10H-T.dcm.png</td>\n",
              "      <td>0</td>\n",
              "      <td>/content/drive/MyDrive/ClassPng/0/10H-T.dcm.png</td>\n",
              "    </tr>\n",
              "    <tr>\n",
              "      <th>4</th>\n",
              "      <td>0/2202897-VEDA-F4-B8.dcm.png</td>\n",
              "      <td>0</td>\n",
              "      <td>/content/drive/MyDrive/ClassPng/0/2202897-VEDA...</td>\n",
              "    </tr>\n",
              "    <tr>\n",
              "      <th>...</th>\n",
              "      <td>...</td>\n",
              "      <td>...</td>\n",
              "      <td>...</td>\n",
              "    </tr>\n",
              "    <tr>\n",
              "      <th>68</th>\n",
              "      <td>1/24 25H-T.dcm.png</td>\n",
              "      <td>1</td>\n",
              "      <td>/content/drive/MyDrive/ClassPng/1/24 25H-T.dcm...</td>\n",
              "    </tr>\n",
              "    <tr>\n",
              "      <th>69</th>\n",
              "      <td>1/10W-T.dcm.png</td>\n",
              "      <td>1</td>\n",
              "      <td>/content/drive/MyDrive/ClassPng/1/10W-T.dcm.png</td>\n",
              "    </tr>\n",
              "    <tr>\n",
              "      <th>70</th>\n",
              "      <td>1/10L-T.dcm.png</td>\n",
              "      <td>1</td>\n",
              "      <td>/content/drive/MyDrive/ClassPng/1/10L-T.dcm.png</td>\n",
              "    </tr>\n",
              "    <tr>\n",
              "      <th>71</th>\n",
              "      <td>1/10N-T.dcm.png</td>\n",
              "      <td>1</td>\n",
              "      <td>/content/drive/MyDrive/ClassPng/1/10N-T.dcm.png</td>\n",
              "    </tr>\n",
              "    <tr>\n",
              "      <th>72</th>\n",
              "      <td>1/24 25J-T.dcm.png</td>\n",
              "      <td>1</td>\n",
              "      <td>/content/drive/MyDrive/ClassPng/1/24 25J-T.dcm...</td>\n",
              "    </tr>\n",
              "  </tbody>\n",
              "</table>\n",
              "<p>73 rows × 3 columns</p>\n",
              "</div>\n",
              "    <div class=\"colab-df-buttons\">\n",
              "\n",
              "  <div class=\"colab-df-container\">\n",
              "    <button class=\"colab-df-convert\" onclick=\"convertToInteractive('df-47b7a54b-1a03-4c0f-8f0a-cf81b8415bbf')\"\n",
              "            title=\"Convert this dataframe to an interactive table.\"\n",
              "            style=\"display:none;\">\n",
              "\n",
              "  <svg xmlns=\"http://www.w3.org/2000/svg\" height=\"24px\" viewBox=\"0 -960 960 960\">\n",
              "    <path d=\"M120-120v-720h720v720H120Zm60-500h600v-160H180v160Zm220 220h160v-160H400v160Zm0 220h160v-160H400v160ZM180-400h160v-160H180v160Zm440 0h160v-160H620v160ZM180-180h160v-160H180v160Zm440 0h160v-160H620v160Z\"/>\n",
              "  </svg>\n",
              "    </button>\n",
              "\n",
              "  <style>\n",
              "    .colab-df-container {\n",
              "      display:flex;\n",
              "      gap: 12px;\n",
              "    }\n",
              "\n",
              "    .colab-df-convert {\n",
              "      background-color: #E8F0FE;\n",
              "      border: none;\n",
              "      border-radius: 50%;\n",
              "      cursor: pointer;\n",
              "      display: none;\n",
              "      fill: #1967D2;\n",
              "      height: 32px;\n",
              "      padding: 0 0 0 0;\n",
              "      width: 32px;\n",
              "    }\n",
              "\n",
              "    .colab-df-convert:hover {\n",
              "      background-color: #E2EBFA;\n",
              "      box-shadow: 0px 1px 2px rgba(60, 64, 67, 0.3), 0px 1px 3px 1px rgba(60, 64, 67, 0.15);\n",
              "      fill: #174EA6;\n",
              "    }\n",
              "\n",
              "    .colab-df-buttons div {\n",
              "      margin-bottom: 4px;\n",
              "    }\n",
              "\n",
              "    [theme=dark] .colab-df-convert {\n",
              "      background-color: #3B4455;\n",
              "      fill: #D2E3FC;\n",
              "    }\n",
              "\n",
              "    [theme=dark] .colab-df-convert:hover {\n",
              "      background-color: #434B5C;\n",
              "      box-shadow: 0px 1px 3px 1px rgba(0, 0, 0, 0.15);\n",
              "      filter: drop-shadow(0px 1px 2px rgba(0, 0, 0, 0.3));\n",
              "      fill: #FFFFFF;\n",
              "    }\n",
              "  </style>\n",
              "\n",
              "    <script>\n",
              "      const buttonEl =\n",
              "        document.querySelector('#df-47b7a54b-1a03-4c0f-8f0a-cf81b8415bbf button.colab-df-convert');\n",
              "      buttonEl.style.display =\n",
              "        google.colab.kernel.accessAllowed ? 'block' : 'none';\n",
              "\n",
              "      async function convertToInteractive(key) {\n",
              "        const element = document.querySelector('#df-47b7a54b-1a03-4c0f-8f0a-cf81b8415bbf');\n",
              "        const dataTable =\n",
              "          await google.colab.kernel.invokeFunction('convertToInteractive',\n",
              "                                                    [key], {});\n",
              "        if (!dataTable) return;\n",
              "\n",
              "        const docLinkHtml = 'Like what you see? Visit the ' +\n",
              "          '<a target=\"_blank\" href=https://colab.research.google.com/notebooks/data_table.ipynb>data table notebook</a>'\n",
              "          + ' to learn more about interactive tables.';\n",
              "        element.innerHTML = '';\n",
              "        dataTable['output_type'] = 'display_data';\n",
              "        await google.colab.output.renderOutput(dataTable, element);\n",
              "        const docLink = document.createElement('div');\n",
              "        docLink.innerHTML = docLinkHtml;\n",
              "        element.appendChild(docLink);\n",
              "      }\n",
              "    </script>\n",
              "  </div>\n",
              "\n",
              "\n",
              "<div id=\"df-eb0e241e-8135-45a4-b42f-7cfe064c9f30\">\n",
              "  <button class=\"colab-df-quickchart\" onclick=\"quickchart('df-eb0e241e-8135-45a4-b42f-7cfe064c9f30')\"\n",
              "            title=\"Suggest charts\"\n",
              "            style=\"display:none;\">\n",
              "\n",
              "<svg xmlns=\"http://www.w3.org/2000/svg\" height=\"24px\"viewBox=\"0 0 24 24\"\n",
              "     width=\"24px\">\n",
              "    <g>\n",
              "        <path d=\"M19 3H5c-1.1 0-2 .9-2 2v14c0 1.1.9 2 2 2h14c1.1 0 2-.9 2-2V5c0-1.1-.9-2-2-2zM9 17H7v-7h2v7zm4 0h-2V7h2v10zm4 0h-2v-4h2v4z\"/>\n",
              "    </g>\n",
              "</svg>\n",
              "  </button>\n",
              "\n",
              "<style>\n",
              "  .colab-df-quickchart {\n",
              "      --bg-color: #E8F0FE;\n",
              "      --fill-color: #1967D2;\n",
              "      --hover-bg-color: #E2EBFA;\n",
              "      --hover-fill-color: #174EA6;\n",
              "      --disabled-fill-color: #AAA;\n",
              "      --disabled-bg-color: #DDD;\n",
              "  }\n",
              "\n",
              "  [theme=dark] .colab-df-quickchart {\n",
              "      --bg-color: #3B4455;\n",
              "      --fill-color: #D2E3FC;\n",
              "      --hover-bg-color: #434B5C;\n",
              "      --hover-fill-color: #FFFFFF;\n",
              "      --disabled-bg-color: #3B4455;\n",
              "      --disabled-fill-color: #666;\n",
              "  }\n",
              "\n",
              "  .colab-df-quickchart {\n",
              "    background-color: var(--bg-color);\n",
              "    border: none;\n",
              "    border-radius: 50%;\n",
              "    cursor: pointer;\n",
              "    display: none;\n",
              "    fill: var(--fill-color);\n",
              "    height: 32px;\n",
              "    padding: 0;\n",
              "    width: 32px;\n",
              "  }\n",
              "\n",
              "  .colab-df-quickchart:hover {\n",
              "    background-color: var(--hover-bg-color);\n",
              "    box-shadow: 0 1px 2px rgba(60, 64, 67, 0.3), 0 1px 3px 1px rgba(60, 64, 67, 0.15);\n",
              "    fill: var(--button-hover-fill-color);\n",
              "  }\n",
              "\n",
              "  .colab-df-quickchart-complete:disabled,\n",
              "  .colab-df-quickchart-complete:disabled:hover {\n",
              "    background-color: var(--disabled-bg-color);\n",
              "    fill: var(--disabled-fill-color);\n",
              "    box-shadow: none;\n",
              "  }\n",
              "\n",
              "  .colab-df-spinner {\n",
              "    border: 2px solid var(--fill-color);\n",
              "    border-color: transparent;\n",
              "    border-bottom-color: var(--fill-color);\n",
              "    animation:\n",
              "      spin 1s steps(1) infinite;\n",
              "  }\n",
              "\n",
              "  @keyframes spin {\n",
              "    0% {\n",
              "      border-color: transparent;\n",
              "      border-bottom-color: var(--fill-color);\n",
              "      border-left-color: var(--fill-color);\n",
              "    }\n",
              "    20% {\n",
              "      border-color: transparent;\n",
              "      border-left-color: var(--fill-color);\n",
              "      border-top-color: var(--fill-color);\n",
              "    }\n",
              "    30% {\n",
              "      border-color: transparent;\n",
              "      border-left-color: var(--fill-color);\n",
              "      border-top-color: var(--fill-color);\n",
              "      border-right-color: var(--fill-color);\n",
              "    }\n",
              "    40% {\n",
              "      border-color: transparent;\n",
              "      border-right-color: var(--fill-color);\n",
              "      border-top-color: var(--fill-color);\n",
              "    }\n",
              "    60% {\n",
              "      border-color: transparent;\n",
              "      border-right-color: var(--fill-color);\n",
              "    }\n",
              "    80% {\n",
              "      border-color: transparent;\n",
              "      border-right-color: var(--fill-color);\n",
              "      border-bottom-color: var(--fill-color);\n",
              "    }\n",
              "    90% {\n",
              "      border-color: transparent;\n",
              "      border-bottom-color: var(--fill-color);\n",
              "    }\n",
              "  }\n",
              "</style>\n",
              "\n",
              "  <script>\n",
              "    async function quickchart(key) {\n",
              "      const quickchartButtonEl =\n",
              "        document.querySelector('#' + key + ' button');\n",
              "      quickchartButtonEl.disabled = true;  // To prevent multiple clicks.\n",
              "      quickchartButtonEl.classList.add('colab-df-spinner');\n",
              "      try {\n",
              "        const charts = await google.colab.kernel.invokeFunction(\n",
              "            'suggestCharts', [key], {});\n",
              "      } catch (error) {\n",
              "        console.error('Error during call to suggestCharts:', error);\n",
              "      }\n",
              "      quickchartButtonEl.classList.remove('colab-df-spinner');\n",
              "      quickchartButtonEl.classList.add('colab-df-quickchart-complete');\n",
              "    }\n",
              "    (() => {\n",
              "      let quickchartButtonEl =\n",
              "        document.querySelector('#df-eb0e241e-8135-45a4-b42f-7cfe064c9f30 button');\n",
              "      quickchartButtonEl.style.display =\n",
              "        google.colab.kernel.accessAllowed ? 'block' : 'none';\n",
              "    })();\n",
              "  </script>\n",
              "</div>\n",
              "\n",
              "  <div id=\"id_88dcb010-fbc4-4c9f-a005-0595f4b20f4e\">\n",
              "    <style>\n",
              "      .colab-df-generate {\n",
              "        background-color: #E8F0FE;\n",
              "        border: none;\n",
              "        border-radius: 50%;\n",
              "        cursor: pointer;\n",
              "        display: none;\n",
              "        fill: #1967D2;\n",
              "        height: 32px;\n",
              "        padding: 0 0 0 0;\n",
              "        width: 32px;\n",
              "      }\n",
              "\n",
              "      .colab-df-generate:hover {\n",
              "        background-color: #E2EBFA;\n",
              "        box-shadow: 0px 1px 2px rgba(60, 64, 67, 0.3), 0px 1px 3px 1px rgba(60, 64, 67, 0.15);\n",
              "        fill: #174EA6;\n",
              "      }\n",
              "\n",
              "      [theme=dark] .colab-df-generate {\n",
              "        background-color: #3B4455;\n",
              "        fill: #D2E3FC;\n",
              "      }\n",
              "\n",
              "      [theme=dark] .colab-df-generate:hover {\n",
              "        background-color: #434B5C;\n",
              "        box-shadow: 0px 1px 3px 1px rgba(0, 0, 0, 0.15);\n",
              "        filter: drop-shadow(0px 1px 2px rgba(0, 0, 0, 0.3));\n",
              "        fill: #FFFFFF;\n",
              "      }\n",
              "    </style>\n",
              "    <button class=\"colab-df-generate\" onclick=\"generateWithVariable('data')\"\n",
              "            title=\"Generate code using this dataframe.\"\n",
              "            style=\"display:none;\">\n",
              "\n",
              "  <svg xmlns=\"http://www.w3.org/2000/svg\" height=\"24px\"viewBox=\"0 0 24 24\"\n",
              "       width=\"24px\">\n",
              "    <path d=\"M7,19H8.4L18.45,9,17,7.55,7,17.6ZM5,21V16.75L18.45,3.32a2,2,0,0,1,2.83,0l1.4,1.43a1.91,1.91,0,0,1,.58,1.4,1.91,1.91,0,0,1-.58,1.4L9.25,21ZM18.45,9,17,7.55Zm-12,3A5.31,5.31,0,0,0,4.9,8.1,5.31,5.31,0,0,0,1,6.5,5.31,5.31,0,0,0,4.9,4.9,5.31,5.31,0,0,0,6.5,1,5.31,5.31,0,0,0,8.1,4.9,5.31,5.31,0,0,0,12,6.5,5.46,5.46,0,0,0,6.5,12Z\"/>\n",
              "  </svg>\n",
              "    </button>\n",
              "    <script>\n",
              "      (() => {\n",
              "      const buttonEl =\n",
              "        document.querySelector('#id_88dcb010-fbc4-4c9f-a005-0595f4b20f4e button.colab-df-generate');\n",
              "      buttonEl.style.display =\n",
              "        google.colab.kernel.accessAllowed ? 'block' : 'none';\n",
              "\n",
              "      buttonEl.onclick = () => {\n",
              "        google.colab.notebook.generateWithVariable('data');\n",
              "      }\n",
              "      })();\n",
              "    </script>\n",
              "  </div>\n",
              "\n",
              "    </div>\n",
              "  </div>\n"
            ]
          },
          "metadata": {},
          "execution_count": 25
        }
      ],
      "source": [
        "levels = ['0', '1']\n",
        "data = []\n",
        "for id, level in enumerate(levels):\n",
        "    for file in os.listdir(os.path.join('/content/drive/MyDrive/ClassPng', level )):\n",
        "        data.append(['{}/{}'.format(level, file), level])\n",
        "\n",
        "data = pd.DataFrame(data, columns = ['image_file', 'result'])\n",
        "\n",
        "data['path'] = '/content/drive/MyDrive/ClassPng' + '/' + data['image_file']\n",
        "\n",
        "data"
      ]
    },
    {
      "cell_type": "code",
      "execution_count": null,
      "metadata": {
        "id": "t4ii9Xgn3OnH"
      },
      "outputs": [],
      "source": [
        "import os\n",
        "import pandas as pd\n",
        "import numpy as np\n",
        "from PIL import Image, ImageOps\n",
        "import plotly.express as px\n",
        "import matplotlib.pyplot as plt\n",
        "import matplotlib.image as mpimg\n",
        "import seaborn as sns\n",
        "import cv2\n",
        "from tqdm import tqdm\n",
        "from sklearn.model_selection import train_test_split\n",
        "from sklearn.metrics import accuracy_score, precision_score, recall_score, f1_score, classification_report\n",
        "import time\n",
        "\n",
        "\n",
        "import tensorflow as tf\n",
        "import keras\n",
        "from keras import layers\n",
        "from keras.models import Sequential\n",
        "from keras.layers import Dense, Activation, Dropout\n",
        "from sklearn.metrics import classification_report\n",
        "from tensorflow.keras.callbacks import EarlyStopping\n",
        "from keras.preprocessing.image import ImageDataGenerator\n",
        "\n",
        "\n",
        "from sklearn.naive_bayes import MultinomialNB\n",
        "# import xgboost as xgb\n",
        "from sklearn import svm\n",
        "from sklearn.linear_model import LogisticRegression\n",
        "from sklearn.tree import DecisionTreeClassifier\n",
        "from sklearn.ensemble import RandomForestClassifier\n",
        "from sklearn.svm import SVC\n",
        "from sklearn.neighbors import KNeighborsClassifier\n",
        "from sklearn.metrics import accuracy_score"
      ]
    },
    {
      "cell_type": "code",
      "execution_count": null,
      "metadata": {
        "colab": {
          "base_uri": "https://localhost:8080/",
          "height": 1000
        },
        "id": "moc_CbIa2yxh",
        "outputId": "58d5dc16-3433-4a19-dd08-79c58ab59abe"
      },
      "outputs": [
        {
          "output_type": "error",
          "ename": "TypeError",
          "evalue": "Image data of dtype object cannot be converted to float",
          "traceback": [
            "\u001b[0;31m---------------------------------------------------------------------------\u001b[0m",
            "\u001b[0;31mTypeError\u001b[0m                                 Traceback (most recent call last)",
            "\u001b[0;32m<ipython-input-27-c99c8fd0cf56>\u001b[0m in \u001b[0;36m<cell line: 5>\u001b[0;34m()\u001b[0m\n\u001b[1;32m      9\u001b[0m         \u001b[0;31m# print(picture)\u001b[0m\u001b[0;34m\u001b[0m\u001b[0;34m\u001b[0m\u001b[0m\n\u001b[1;32m     10\u001b[0m         \u001b[0mimage\u001b[0m \u001b[0;34m=\u001b[0m \u001b[0mcv2\u001b[0m\u001b[0;34m.\u001b[0m\u001b[0mimread\u001b[0m\u001b[0;34m(\u001b[0m\u001b[0mpicture\u001b[0m\u001b[0;34m)\u001b[0m\u001b[0;34m\u001b[0m\u001b[0;34m\u001b[0m\u001b[0m\n\u001b[0;32m---> 11\u001b[0;31m         \u001b[0mc_ax\u001b[0m\u001b[0;34m.\u001b[0m\u001b[0mimshow\u001b[0m\u001b[0;34m(\u001b[0m\u001b[0mimage\u001b[0m\u001b[0;34m,\u001b[0m \u001b[0mcmap\u001b[0m\u001b[0;34m=\u001b[0m\u001b[0;34m'gray'\u001b[0m\u001b[0;34m)\u001b[0m\u001b[0;34m\u001b[0m\u001b[0;34m\u001b[0m\u001b[0m\n\u001b[0m\u001b[1;32m     12\u001b[0m         \u001b[0mc_ax\u001b[0m\u001b[0;34m.\u001b[0m\u001b[0maxis\u001b[0m\u001b[0;34m(\u001b[0m\u001b[0;34m'off'\u001b[0m\u001b[0;34m)\u001b[0m\u001b[0;34m\u001b[0m\u001b[0;34m\u001b[0m\u001b[0m\n\u001b[1;32m     13\u001b[0m   \u001b[0;31m# Hide empty subplots (if any)\u001b[0m\u001b[0;34m\u001b[0m\u001b[0;34m\u001b[0m\u001b[0m\n",
            "\u001b[0;32m/usr/local/lib/python3.10/dist-packages/matplotlib/__init__.py\u001b[0m in \u001b[0;36minner\u001b[0;34m(ax, data, *args, **kwargs)\u001b[0m\n\u001b[1;32m   1440\u001b[0m     \u001b[0;32mdef\u001b[0m \u001b[0minner\u001b[0m\u001b[0;34m(\u001b[0m\u001b[0max\u001b[0m\u001b[0;34m,\u001b[0m \u001b[0;34m*\u001b[0m\u001b[0margs\u001b[0m\u001b[0;34m,\u001b[0m \u001b[0mdata\u001b[0m\u001b[0;34m=\u001b[0m\u001b[0;32mNone\u001b[0m\u001b[0;34m,\u001b[0m \u001b[0;34m**\u001b[0m\u001b[0mkwargs\u001b[0m\u001b[0;34m)\u001b[0m\u001b[0;34m:\u001b[0m\u001b[0;34m\u001b[0m\u001b[0;34m\u001b[0m\u001b[0m\n\u001b[1;32m   1441\u001b[0m         \u001b[0;32mif\u001b[0m \u001b[0mdata\u001b[0m \u001b[0;32mis\u001b[0m \u001b[0;32mNone\u001b[0m\u001b[0;34m:\u001b[0m\u001b[0;34m\u001b[0m\u001b[0;34m\u001b[0m\u001b[0m\n\u001b[0;32m-> 1442\u001b[0;31m             \u001b[0;32mreturn\u001b[0m \u001b[0mfunc\u001b[0m\u001b[0;34m(\u001b[0m\u001b[0max\u001b[0m\u001b[0;34m,\u001b[0m \u001b[0;34m*\u001b[0m\u001b[0mmap\u001b[0m\u001b[0;34m(\u001b[0m\u001b[0msanitize_sequence\u001b[0m\u001b[0;34m,\u001b[0m \u001b[0margs\u001b[0m\u001b[0;34m)\u001b[0m\u001b[0;34m,\u001b[0m \u001b[0;34m**\u001b[0m\u001b[0mkwargs\u001b[0m\u001b[0;34m)\u001b[0m\u001b[0;34m\u001b[0m\u001b[0;34m\u001b[0m\u001b[0m\n\u001b[0m\u001b[1;32m   1443\u001b[0m \u001b[0;34m\u001b[0m\u001b[0m\n\u001b[1;32m   1444\u001b[0m         \u001b[0mbound\u001b[0m \u001b[0;34m=\u001b[0m \u001b[0mnew_sig\u001b[0m\u001b[0;34m.\u001b[0m\u001b[0mbind\u001b[0m\u001b[0;34m(\u001b[0m\u001b[0max\u001b[0m\u001b[0;34m,\u001b[0m \u001b[0;34m*\u001b[0m\u001b[0margs\u001b[0m\u001b[0;34m,\u001b[0m \u001b[0;34m**\u001b[0m\u001b[0mkwargs\u001b[0m\u001b[0;34m)\u001b[0m\u001b[0;34m\u001b[0m\u001b[0;34m\u001b[0m\u001b[0m\n",
            "\u001b[0;32m/usr/local/lib/python3.10/dist-packages/matplotlib/axes/_axes.py\u001b[0m in \u001b[0;36mimshow\u001b[0;34m(self, X, cmap, norm, aspect, interpolation, alpha, vmin, vmax, origin, extent, interpolation_stage, filternorm, filterrad, resample, url, **kwargs)\u001b[0m\n\u001b[1;32m   5663\u001b[0m                               **kwargs)\n\u001b[1;32m   5664\u001b[0m \u001b[0;34m\u001b[0m\u001b[0m\n\u001b[0;32m-> 5665\u001b[0;31m         \u001b[0mim\u001b[0m\u001b[0;34m.\u001b[0m\u001b[0mset_data\u001b[0m\u001b[0;34m(\u001b[0m\u001b[0mX\u001b[0m\u001b[0;34m)\u001b[0m\u001b[0;34m\u001b[0m\u001b[0;34m\u001b[0m\u001b[0m\n\u001b[0m\u001b[1;32m   5666\u001b[0m         \u001b[0mim\u001b[0m\u001b[0;34m.\u001b[0m\u001b[0mset_alpha\u001b[0m\u001b[0;34m(\u001b[0m\u001b[0malpha\u001b[0m\u001b[0;34m)\u001b[0m\u001b[0;34m\u001b[0m\u001b[0;34m\u001b[0m\u001b[0m\n\u001b[1;32m   5667\u001b[0m         \u001b[0;32mif\u001b[0m \u001b[0mim\u001b[0m\u001b[0;34m.\u001b[0m\u001b[0mget_clip_path\u001b[0m\u001b[0;34m(\u001b[0m\u001b[0;34m)\u001b[0m \u001b[0;32mis\u001b[0m \u001b[0;32mNone\u001b[0m\u001b[0;34m:\u001b[0m\u001b[0;34m\u001b[0m\u001b[0;34m\u001b[0m\u001b[0m\n",
            "\u001b[0;32m/usr/local/lib/python3.10/dist-packages/matplotlib/image.py\u001b[0m in \u001b[0;36mset_data\u001b[0;34m(self, A)\u001b[0m\n\u001b[1;32m    699\u001b[0m         if (self._A.dtype != np.uint8 and\n\u001b[1;32m    700\u001b[0m                 not np.can_cast(self._A.dtype, float, \"same_kind\")):\n\u001b[0;32m--> 701\u001b[0;31m             raise TypeError(\"Image data of dtype {} cannot be converted to \"\n\u001b[0m\u001b[1;32m    702\u001b[0m                             \"float\".format(self._A.dtype))\n\u001b[1;32m    703\u001b[0m \u001b[0;34m\u001b[0m\u001b[0m\n",
            "\u001b[0;31mTypeError\u001b[0m: Image data of dtype object cannot be converted to float"
          ]
        },
        {
          "output_type": "display_data",
          "data": {
            "text/plain": [
              "<Figure size 800x800 with 12 Axes>"
            ],
            "image/png": "[encoded data removed]"
          },
          "metadata": {}
        }
      ],
      "source": [
        "n_samples = 3\n",
        "\n",
        "fig, m_axs = plt.subplots(4, n_samples, figsize = (8, 8))\n",
        "\n",
        "for n_axs, (type_name, type_rows) in zip(m_axs, data.sort_values(['result']).groupby('result')):\n",
        "    n_axs[0].set_title(type_name, fontsize = 15), n_axs[1].set_title(type_name, fontsize = 15),     n_axs[0].set_title(type_name, fontsize = 15), n_axs[2].set_title(type_name, fontsize = 15),\n",
        "    for c_ax, (_, c_row) in zip(n_axs, type_rows.sample(n_samples, random_state = 1234).iterrows()):\n",
        "        picture = c_row['path']\n",
        "        # print(picture)\n",
        "        image = cv2.imread(picture)\n",
        "        c_ax.imshow(image, cmap='gray')\n",
        "        c_ax.axis('off')\n",
        "  # Hide empty subplots (if any)\n",
        "\n",
        "for axs_row in m_axs:\n",
        "  for ax in axs_row:\n",
        "    if not ax.images:\n",
        "      ax.axis('off')\n",
        "\n",
        "plt.show()"
      ]
    },
    {
      "cell_type": "code",
      "execution_count": null,
      "metadata": {
        "colab": {
          "base_uri": "https://localhost:8080/"
        },
        "id": "m7m5MKfG58Ta",
        "outputId": "6f8182bf-2b49-48da-8ee0-74bde500c40a"
      },
      "outputs": [
        {
          "output_type": "stream",
          "name": "stdout",
          "text": [
            "Normal :  40\n",
            "Defective :  33\n"
          ]
        }
      ],
      "source": [
        "# Count of Images\n",
        "print('Normal : ', list(data['result']).count('1'))\n",
        "print('Defective : ', list(data['result']).count('0'))"
      ]
    },
    {
      "cell_type": "code",
      "execution_count": null,
      "metadata": {
        "colab": {
          "base_uri": "https://localhost:8080/",
          "height": 444
        },
        "id": "k1IvKzmV_RXb",
        "outputId": "8676d7ce-30df-406e-e81f-a3338471c77d"
      },
      "outputs": [
        {
          "output_type": "display_data",
          "data": {
            "text/plain": [
              "<Figure size 640x480 with 1 Axes>"
            ],
            "image/png": "[encoded data removed]"
          },
          "metadata": {}
        }
      ],
      "source": [
        "sns.histplot(data['result'], color=\"skyblue\", kde=False)\n",
        "plt.xticks(rotation=90)\n",
        "plt.show()"
      ]
    },
    {
      "cell_type": "code",
      "execution_count": null,
      "metadata": {
        "id": "oIeDjaMm_WnT"
      },
      "outputs": [],
      "source": [
        "def to_grayscale(img):\n",
        "    return cv2.cvtColor(img, cv2.COLOR_BGR2GRAY)\n",
        "\n",
        "def apply_histogram_equalization(img):\n",
        "    equ = cv2.equalizeHist(img)\n",
        "    return equ\n",
        "\n",
        "def apply_gaussian_blurring(img, kernel_size=(5, 5)):\n",
        "    blurred = cv2.GaussianBlur(img, kernel_size, 0)\n",
        "    return blurred\n",
        "\n",
        "def apply_enhance_image(img):\n",
        "    enhanced = cv2.medianBlur(img, 5)\n",
        "    return enhanced\n",
        "\n",
        "def apply_image_segmentation(img):\n",
        "    thresh_min = 150\n",
        "    thresh_max = 255\n",
        "    segmented_img = threshold_image(img, thresh_min, thresh_max)\n",
        "    return segmented_img\n",
        "\n",
        "def threshold_image(img, thresh_min=50, thresh_max=255):\n",
        "    ret3,th3 = cv2.threshold(img,thresh_min,155,cv2.THRESH_BINARY+cv2.THRESH_OTSU)\n",
        "    return th3\n",
        "\n",
        "def getContours(image):\n",
        "    contours, hierarchy = cv2.findContours(image, cv2.RETR_TREE, cv2.CHAIN_APPROX_SIMPLE)\n",
        "    return (contours, hierarchy)\n",
        "\n",
        "def drawContours(image, contours):\n",
        "    return cv2.drawContours(image, contours, -1, (255, 0, 0), 0)\n",
        "\n",
        "def calculateImageFeatures(contours, featcols):\n",
        "    feat_array = np.zeros((1, len(featcols)), np.float32)\n",
        "    mmnts =  cv2.moments(contours[0], False)\n",
        "    for i, k in enumerate(sorted(mmnts.keys())):\n",
        "        feat_array[0, i] = mmnts[k]\n",
        "\n",
        "    area = cv2.contourArea(contours[0], False)\n",
        "\n",
        "    centroid_x = mmnts['m10']/(mmnts['m00'] + 0.000000000001)\n",
        "    centroid_y = mmnts['m01']/(mmnts['m00'] + + 0.000000000001)\n",
        "    arcLength = cv2.arcLength(contours[0], True)\n",
        "\n",
        "    feat_array[0, len(mmnts)] = area\n",
        "    feat_array[0, len(mmnts)+1] = centroid_x\n",
        "    feat_array[0, len(mmnts)+2] = centroid_y\n",
        "    feat_array[0, len(mmnts)+3] = arcLength\n",
        "\n",
        "    return feat_array"
      ]
    },
    {
      "cell_type": "code",
      "execution_count": null,
      "metadata": {
        "id": "KJP_CmDj_sMw"
      },
      "outputs": [],
      "source": [
        "def get_names(path):\n",
        "    names = []\n",
        "    for root, dirnames, filenames in os.walk(path):\n",
        "        for filename in filenames:\n",
        "            _, ext = os.path.splitext(filename)\n",
        "            if ext in ['.dcm']:\n",
        "                names.append(filename)\n",
        "\n",
        "    return names\n",
        "\n",
        "def convert_dcm_jpg(name):\n",
        "\n",
        "    im = pydicom.dcmread('Class/1/'+name)\n",
        "\n",
        "    im = im.pixel_array.astype(float)\n",
        "\n",
        "    rescaled_image = (np.maximum(im,0)/im.max())*255 # float pixels\n",
        "    final_image = np.uint8(rescaled_image) # integers pixels\n",
        "\n",
        "    final_image = Image.fromarray(final_image)\n",
        "\n",
        "    return final_image"
      ]
    },
    {
      "cell_type": "code",
      "execution_count": null,
      "metadata": {
        "id": "mzytb2jhtI7A"
      },
      "outputs": [],
      "source": [
        "# names = get_names('Class/1/')\n",
        "# for name in names:\n",
        "#     image = convert_dcm_jpg(name)\n",
        "#     image.save('ClassPng/1/'+name+'.png')"
      ]
    },
    {
      "cell_type": "code",
      "execution_count": null,
      "metadata": {
        "id": "B_XDS_LA_l3V",
        "colab": {
          "base_uri": "https://localhost:8080/",
          "height": 435
        },
        "outputId": "ffbd4ae5-aba7-4657-8e62-abb9da701b71"
      },
      "outputs": [
        {
          "output_type": "display_data",
          "data": {
            "text/plain": [
              "<Figure size 640x480 with 1 Axes>"
            ],
            "image/png": "[encoded data removed]"
          },
          "metadata": {}
        }
      ],
      "source": [
        "sample_thresh = threshold_image(to_grayscale(cv2.imread(\"/content/drive/MyDrive/ClassPng/0/24 25AB-T.dcm.png\")))\n",
        "plt.imshow(sample_thresh,cmap='gray');"
      ]
    },
    {
      "cell_type": "code",
      "execution_count": null,
      "metadata": {
        "colab": {
          "base_uri": "https://localhost:8080/"
        },
        "id": "fTDGMZlwtI7B",
        "outputId": "6b0c816a-2362-4c8b-e73e-9322f9caf734"
      },
      "outputs": [
        {
          "output_type": "stream",
          "name": "stdout",
          "text": [
            "['m00',\n",
            " 'm01',\n",
            " 'm02',\n",
            " 'm03',\n",
            " 'm10',\n",
            " 'm11',\n",
            " 'm12',\n",
            " 'm20',\n",
            " 'm21',\n",
            " 'm30',\n",
            " 'mu02',\n",
            " 'mu03',\n",
            " 'mu11',\n",
            " 'mu12',\n",
            " 'mu20',\n",
            " 'mu21',\n",
            " 'mu30',\n",
            " 'nu02',\n",
            " 'nu03',\n",
            " 'nu11',\n",
            " 'nu12',\n",
            " 'nu20',\n",
            " 'nu21',\n",
            " 'nu30',\n",
            " 'area',\n",
            " 'centroidx',\n",
            " 'centroidy',\n",
            " 'length']\n",
            "array([[0., 0., 0., 0., 0., 0., 0., 0., 0., 0., 0., 0., 0., 0., 0., 0.,\n",
            "        0., 0., 0., 0., 0., 0., 0., 0., 0., 0., 0., 0.]], dtype=float32)\n"
          ]
        }
      ],
      "source": [
        "import glob\n",
        "# import shap\n",
        "import pprint\n",
        "import skimage as ski\n",
        "cnts, h = getContours(sample_thresh)\n",
        "sample_moments = cv2.moments(cnts[0], False)\n",
        "#print(sample_moments)\n",
        "\n",
        "feature_cols = list(sorted(sample_moments.keys())) + [\"area\", \"centroidx\", \"centroidy\", \"length\"]\n",
        "pprint.pprint(feature_cols)\n",
        "\n",
        "sample_features = calculateImageFeatures(cnts, feature_cols)\n",
        "pprint.pprint(sample_features)"
      ]
    },
    {
      "cell_type": "code",
      "execution_count": null,
      "metadata": {
        "colab": {
          "base_uri": "https://localhost:8080/"
        },
        "id": "rfklfoqrtI7B",
        "outputId": "e06af4ba-2565-4a54-80ca-766f2a5af269"
      },
      "outputs": [
        {
          "output_type": "stream",
          "name": "stdout",
          "text": [
            "Image Class: ClassPng\n",
            "Total Images: 32\n",
            "--------------------------------------------\n",
            "OpenCV(4.8.0) /io/opencv/modules/imgproc/src/color.cpp:182: error: (-215:Assertion failed) !_src.empty() in function 'cvtColor'\n",
            "\n",
            "Image Class: ClassPng\n",
            "Total Images: 39\n",
            "--------------------------------------------\n"
          ]
        }
      ],
      "source": [
        "class_folders = [\n",
        "    \"/content/drive/MyDrive/ClassPng/0\",\n",
        "    \"/content/drive/MyDrive/ClassPng/1\"\n",
        "]\n",
        "classwise_feature_dict = {}\n",
        "classwise_img_dict = {}\n",
        "error_images = []\n",
        "\n",
        "for folder in class_folders:\n",
        "    img_class = folder.split(\"/\")[4]\n",
        "    array_lst = list()\n",
        "    img_path_lst = list()\n",
        "    images_folders = folder\n",
        "\n",
        "    for j, filename in enumerate(glob.glob(images_folders + \"/*.dcm.png\")):\n",
        "        try:\n",
        "            img = cv2.imread(filename)\n",
        "            array_lst.append(calculateImageFeatures\n",
        "                             (getContours\n",
        "                              (apply_image_segmentation\n",
        "                               (apply_enhance_image\n",
        "                                (apply_gaussian_blurring\n",
        "                                 (apply_histogram_equalization\n",
        "                                  (to_grayscale(img).copy()).copy()).copy()).copy()).copy())[0], feature_cols))\n",
        "\n",
        "            img_path_lst.append(filename)\n",
        "        except Exception as err:\n",
        "            error_images.append((img_class,filename))\n",
        "            print(err)\n",
        "            continue\n",
        "    #print(len(array_lst))\n",
        "    all_class_features = np.vstack(array_lst)\n",
        "    classwise_feature_dict[img_class] = all_class_features\n",
        "    classwise_img_dict[img_class] = img_path_lst\n",
        "    print(f\"Image Class: {img_class}\")\n",
        "    print(f\"Total Images: {all_class_features.shape[0]}\")\n",
        "    print(\"--------------------------------------------\")"
      ]
    },
    {
      "cell_type": "code",
      "execution_count": null,
      "metadata": {
        "id": "u5hFnn96tI7B"
      },
      "outputs": [],
      "source": [
        "from PIL import ImageFile\n",
        "ImageFile.LOAD_TRUNCATED_IMAGES = True"
      ]
    },
    {
      "cell_type": "code",
      "execution_count": null,
      "metadata": {
        "colab": {
          "base_uri": "https://localhost:8080/"
        },
        "id": "i6pT38UGtI7C",
        "outputId": "93016bc0-648a-4330-80d8-62c9103d1366"
      },
      "outputs": [
        {
          "output_type": "stream",
          "name": "stderr",
          "text": [
            "100%|██████████| 73/73 [00:44<00:00,  1.65it/s]\n"
          ]
        }
      ],
      "source": [
        "pixel_img = []\n",
        "# data['path'].drop('ClassPng/0/.DS_Store', axis='index')\n",
        "for image in tqdm(data['path']):\n",
        "    if image != '/content/drive/MyDrive/ClassPng/0/.DS_Store':\n",
        "        img=Image.open(image)\n",
        "        img=ImageOps.grayscale(img)\n",
        "        img=img.resize((64,64))\n",
        "        img=np.asarray(img)\n",
        "        img=img.reshape((64,64,1))\n",
        "        pixel_img.append(img)"
      ]
    },
    {
      "cell_type": "markdown",
      "metadata": {
        "id": "jJIOZLU7tI7C"
      },
      "source": [
        "## Data preprocessing and sampling"
      ]
    },
    {
      "cell_type": "code",
      "execution_count": null,
      "metadata": {
        "colab": {
          "base_uri": "https://localhost:8080/",
          "height": 424
        },
        "id": "Wu9YgPs8tI7C",
        "outputId": "deb56a7c-a894-4381-a252-06eb5fc2301e"
      },
      "outputs": [
        {
          "output_type": "execute_result",
          "data": {
            "text/plain": [
              "                      image_file result  \\\n",
              "0             0/24 25U-T.dcm.png      0   \n",
              "1             0/24 25N-T.dcm.png      0   \n",
              "2              0/140-164.dcm.png      0   \n",
              "3                0/10H-T.dcm.png      0   \n",
              "4   0/2202897-VEDA-F4-B8.dcm.png      0   \n",
              "..                           ...    ...   \n",
              "68            1/24 25H-T.dcm.png      1   \n",
              "69               1/10W-T.dcm.png      1   \n",
              "70               1/10L-T.dcm.png      1   \n",
              "71               1/10N-T.dcm.png      1   \n",
              "72            1/24 25J-T.dcm.png      1   \n",
              "\n",
              "                                                 path  \n",
              "0   /content/drive/MyDrive/ClassPng/0/24 25U-T.dcm...  \n",
              "1   /content/drive/MyDrive/ClassPng/0/24 25N-T.dcm...  \n",
              "2   /content/drive/MyDrive/ClassPng/0/140-164.dcm.png  \n",
              "3     /content/drive/MyDrive/ClassPng/0/10H-T.dcm.png  \n",
              "4   /content/drive/MyDrive/ClassPng/0/2202897-VEDA...  \n",
              "..                                                ...  \n",
              "68  /content/drive/MyDrive/ClassPng/1/24 25H-T.dcm...  \n",
              "69    /content/drive/MyDrive/ClassPng/1/10W-T.dcm.png  \n",
              "70    /content/drive/MyDrive/ClassPng/1/10L-T.dcm.png  \n",
              "71    /content/drive/MyDrive/ClassPng/1/10N-T.dcm.png  \n",
              "72  /content/drive/MyDrive/ClassPng/1/24 25J-T.dcm...  \n",
              "\n",
              "[73 rows x 3 columns]"
            ],
            "text/html": [
              "\n",
              "  <div id=\"df-6ec915f1-53a8-4718-b8f9-6802ee45db8f\" class=\"colab-df-container\">\n",
              "    <div>\n",
              "<style scoped>\n",
              "    .dataframe tbody tr th:only-of-type {\n",
              "        vertical-align: middle;\n",
              "    }\n",
              "\n",
              "    .dataframe tbody tr th {\n",
              "        vertical-align: top;\n",
              "    }\n",
              "\n",
              "    .dataframe thead th {\n",
              "        text-align: right;\n",
              "    }\n",
              "</style>\n",
              "<table border=\"1\" class=\"dataframe\">\n",
              "  <thead>\n",
              "    <tr style=\"text-align: right;\">\n",
              "      <th></th>\n",
              "      <th>image_file</th>\n",
              "      <th>result</th>\n",
              "      <th>path</th>\n",
              "    </tr>\n",
              "  </thead>\n",
              "  <tbody>\n",
              "    <tr>\n",
              "      <th>0</th>\n",
              "      <td>0/24 25U-T.dcm.png</td>\n",
              "      <td>0</td>\n",
              "      <td>/content/drive/MyDrive/ClassPng/0/24 25U-T.dcm...</td>\n",
              "    </tr>\n",
              "    <tr>\n",
              "      <th>1</th>\n",
              "      <td>0/24 25N-T.dcm.png</td>\n",
              "      <td>0</td>\n",
              "      <td>/content/drive/MyDrive/ClassPng/0/24 25N-T.dcm...</td>\n",
              "    </tr>\n",
              "    <tr>\n",
              "      <th>2</th>\n",
              "      <td>0/140-164.dcm.png</td>\n",
              "      <td>0</td>\n",
              "      <td>/content/drive/MyDrive/ClassPng/0/140-164.dcm.png</td>\n",
              "    </tr>\n",
              "    <tr>\n",
              "      <th>3</th>\n",
              "      <td>0/10H-T.dcm.png</td>\n",
              "      <td>0</td>\n",
              "      <td>/content/drive/MyDrive/ClassPng/0/10H-T.dcm.png</td>\n",
              "    </tr>\n",
              "    <tr>\n",
              "      <th>4</th>\n",
              "      <td>0/2202897-VEDA-F4-B8.dcm.png</td>\n",
              "      <td>0</td>\n",
              "      <td>/content/drive/MyDrive/ClassPng/0/2202897-VEDA...</td>\n",
              "    </tr>\n",
              "    <tr>\n",
              "      <th>...</th>\n",
              "      <td>...</td>\n",
              "      <td>...</td>\n",
              "      <td>...</td>\n",
              "    </tr>\n",
              "    <tr>\n",
              "      <th>68</th>\n",
              "      <td>1/24 25H-T.dcm.png</td>\n",
              "      <td>1</td>\n",
              "      <td>/content/drive/MyDrive/ClassPng/1/24 25H-T.dcm...</td>\n",
              "    </tr>\n",
              "    <tr>\n",
              "      <th>69</th>\n",
              "      <td>1/10W-T.dcm.png</td>\n",
              "      <td>1</td>\n",
              "      <td>/content/drive/MyDrive/ClassPng/1/10W-T.dcm.png</td>\n",
              "    </tr>\n",
              "    <tr>\n",
              "      <th>70</th>\n",
              "      <td>1/10L-T.dcm.png</td>\n",
              "      <td>1</td>\n",
              "      <td>/content/drive/MyDrive/ClassPng/1/10L-T.dcm.png</td>\n",
              "    </tr>\n",
              "    <tr>\n",
              "      <th>71</th>\n",
              "      <td>1/10N-T.dcm.png</td>\n",
              "      <td>1</td>\n",
              "      <td>/content/drive/MyDrive/ClassPng/1/10N-T.dcm.png</td>\n",
              "    </tr>\n",
              "    <tr>\n",
              "      <th>72</th>\n",
              "      <td>1/24 25J-T.dcm.png</td>\n",
              "      <td>1</td>\n",
              "      <td>/content/drive/MyDrive/ClassPng/1/24 25J-T.dcm...</td>\n",
              "    </tr>\n",
              "  </tbody>\n",
              "</table>\n",
              "<p>73 rows × 3 columns</p>\n",
              "</div>\n",
              "    <div class=\"colab-df-buttons\">\n",
              "\n",
              "  <div class=\"colab-df-container\">\n",
              "    <button class=\"colab-df-convert\" onclick=\"convertToInteractive('df-6ec915f1-53a8-4718-b8f9-6802ee45db8f')\"\n",
              "            title=\"Convert this dataframe to an interactive table.\"\n",
              "            style=\"display:none;\">\n",
              "\n",
              "  <svg xmlns=\"http://www.w3.org/2000/svg\" height=\"24px\" viewBox=\"0 -960 960 960\">\n",
              "    <path d=\"M120-120v-720h720v720H120Zm60-500h600v-160H180v160Zm220 220h160v-160H400v160Zm0 220h160v-160H400v160ZM180-400h160v-160H180v160Zm440 0h160v-160H620v160ZM180-180h160v-160H180v160Zm440 0h160v-160H620v160Z\"/>\n",
              "  </svg>\n",
              "    </button>\n",
              "\n",
              "  <style>\n",
              "    .colab-df-container {\n",
              "      display:flex;\n",
              "      gap: 12px;\n",
              "    }\n",
              "\n",
              "    .colab-df-convert {\n",
              "      background-color: #E8F0FE;\n",
              "      border: none;\n",
              "      border-radius: 50%;\n",
              "      cursor: pointer;\n",
              "      display: none;\n",
              "      fill: #1967D2;\n",
              "      height: 32px;\n",
              "      padding: 0 0 0 0;\n",
              "      width: 32px;\n",
              "    }\n",
              "\n",
              "    .colab-df-convert:hover {\n",
              "      background-color: #E2EBFA;\n",
              "      box-shadow: 0px 1px 2px rgba(60, 64, 67, 0.3), 0px 1px 3px 1px rgba(60, 64, 67, 0.15);\n",
              "      fill: #174EA6;\n",
              "    }\n",
              "\n",
              "    .colab-df-buttons div {\n",
              "      margin-bottom: 4px;\n",
              "    }\n",
              "\n",
              "    [theme=dark] .colab-df-convert {\n",
              "      background-color: #3B4455;\n",
              "      fill: #D2E3FC;\n",
              "    }\n",
              "\n",
              "    [theme=dark] .colab-df-convert:hover {\n",
              "      background-color: #434B5C;\n",
              "      box-shadow: 0px 1px 3px 1px rgba(0, 0, 0, 0.15);\n",
              "      filter: drop-shadow(0px 1px 2px rgba(0, 0, 0, 0.3));\n",
              "      fill: #FFFFFF;\n",
              "    }\n",
              "  </style>\n",
              "\n",
              "    <script>\n",
              "      const buttonEl =\n",
              "        document.querySelector('#df-6ec915f1-53a8-4718-b8f9-6802ee45db8f button.colab-df-convert');\n",
              "      buttonEl.style.display =\n",
              "        google.colab.kernel.accessAllowed ? 'block' : 'none';\n",
              "\n",
              "      async function convertToInteractive(key) {\n",
              "        const element = document.querySelector('#df-6ec915f1-53a8-4718-b8f9-6802ee45db8f');\n",
              "        const dataTable =\n",
              "          await google.colab.kernel.invokeFunction('convertToInteractive',\n",
              "                                                    [key], {});\n",
              "        if (!dataTable) return;\n",
              "\n",
              "        const docLinkHtml = 'Like what you see? Visit the ' +\n",
              "          '<a target=\"_blank\" href=https://colab.research.google.com/notebooks/data_table.ipynb>data table notebook</a>'\n",
              "          + ' to learn more about interactive tables.';\n",
              "        element.innerHTML = '';\n",
              "        dataTable['output_type'] = 'display_data';\n",
              "        await google.colab.output.renderOutput(dataTable, element);\n",
              "        const docLink = document.createElement('div');\n",
              "        docLink.innerHTML = docLinkHtml;\n",
              "        element.appendChild(docLink);\n",
              "      }\n",
              "    </script>\n",
              "  </div>\n",
              "\n",
              "\n",
              "<div id=\"df-85505bc0-728b-40a9-9fd5-6c3d971ec708\">\n",
              "  <button class=\"colab-df-quickchart\" onclick=\"quickchart('df-85505bc0-728b-40a9-9fd5-6c3d971ec708')\"\n",
              "            title=\"Suggest charts\"\n",
              "            style=\"display:none;\">\n",
              "\n",
              "<svg xmlns=\"http://www.w3.org/2000/svg\" height=\"24px\"viewBox=\"0 0 24 24\"\n",
              "     width=\"24px\">\n",
              "    <g>\n",
              "        <path d=\"M19 3H5c-1.1 0-2 .9-2 2v14c0 1.1.9 2 2 2h14c1.1 0 2-.9 2-2V5c0-1.1-.9-2-2-2zM9 17H7v-7h2v7zm4 0h-2V7h2v10zm4 0h-2v-4h2v4z\"/>\n",
              "    </g>\n",
              "</svg>\n",
              "  </button>\n",
              "\n",
              "<style>\n",
              "  .colab-df-quickchart {\n",
              "      --bg-color: #E8F0FE;\n",
              "      --fill-color: #1967D2;\n",
              "      --hover-bg-color: #E2EBFA;\n",
              "      --hover-fill-color: #174EA6;\n",
              "      --disabled-fill-color: #AAA;\n",
              "      --disabled-bg-color: #DDD;\n",
              "  }\n",
              "\n",
              "  [theme=dark] .colab-df-quickchart {\n",
              "      --bg-color: #3B4455;\n",
              "      --fill-color: #D2E3FC;\n",
              "      --hover-bg-color: #434B5C;\n",
              "      --hover-fill-color: #FFFFFF;\n",
              "      --disabled-bg-color: #3B4455;\n",
              "      --disabled-fill-color: #666;\n",
              "  }\n",
              "\n",
              "  .colab-df-quickchart {\n",
              "    background-color: var(--bg-color);\n",
              "    border: none;\n",
              "    border-radius: 50%;\n",
              "    cursor: pointer;\n",
              "    display: none;\n",
              "    fill: var(--fill-color);\n",
              "    height: 32px;\n",
              "    padding: 0;\n",
              "    width: 32px;\n",
              "  }\n",
              "\n",
              "  .colab-df-quickchart:hover {\n",
              "    background-color: var(--hover-bg-color);\n",
              "    box-shadow: 0 1px 2px rgba(60, 64, 67, 0.3), 0 1px 3px 1px rgba(60, 64, 67, 0.15);\n",
              "    fill: var(--button-hover-fill-color);\n",
              "  }\n",
              "\n",
              "  .colab-df-quickchart-complete:disabled,\n",
              "  .colab-df-quickchart-complete:disabled:hover {\n",
              "    background-color: var(--disabled-bg-color);\n",
              "    fill: var(--disabled-fill-color);\n",
              "    box-shadow: none;\n",
              "  }\n",
              "\n",
              "  .colab-df-spinner {\n",
              "    border: 2px solid var(--fill-color);\n",
              "    border-color: transparent;\n",
              "    border-bottom-color: var(--fill-color);\n",
              "    animation:\n",
              "      spin 1s steps(1) infinite;\n",
              "  }\n",
              "\n",
              "  @keyframes spin {\n",
              "    0% {\n",
              "      border-color: transparent;\n",
              "      border-bottom-color: var(--fill-color);\n",
              "      border-left-color: var(--fill-color);\n",
              "    }\n",
              "    20% {\n",
              "      border-color: transparent;\n",
              "      border-left-color: var(--fill-color);\n",
              "      border-top-color: var(--fill-color);\n",
              "    }\n",
              "    30% {\n",
              "      border-color: transparent;\n",
              "      border-left-color: var(--fill-color);\n",
              "      border-top-color: var(--fill-color);\n",
              "      border-right-color: var(--fill-color);\n",
              "    }\n",
              "    40% {\n",
              "      border-color: transparent;\n",
              "      border-right-color: var(--fill-color);\n",
              "      border-top-color: var(--fill-color);\n",
              "    }\n",
              "    60% {\n",
              "      border-color: transparent;\n",
              "      border-right-color: var(--fill-color);\n",
              "    }\n",
              "    80% {\n",
              "      border-color: transparent;\n",
              "      border-right-color: var(--fill-color);\n",
              "      border-bottom-color: var(--fill-color);\n",
              "    }\n",
              "    90% {\n",
              "      border-color: transparent;\n",
              "      border-bottom-color: var(--fill-color);\n",
              "    }\n",
              "  }\n",
              "</style>\n",
              "\n",
              "  <script>\n",
              "    async function quickchart(key) {\n",
              "      const quickchartButtonEl =\n",
              "        document.querySelector('#' + key + ' button');\n",
              "      quickchartButtonEl.disabled = true;  // To prevent multiple clicks.\n",
              "      quickchartButtonEl.classList.add('colab-df-spinner');\n",
              "      try {\n",
              "        const charts = await google.colab.kernel.invokeFunction(\n",
              "            'suggestCharts', [key], {});\n",
              "      } catch (error) {\n",
              "        console.error('Error during call to suggestCharts:', error);\n",
              "      }\n",
              "      quickchartButtonEl.classList.remove('colab-df-spinner');\n",
              "      quickchartButtonEl.classList.add('colab-df-quickchart-complete');\n",
              "    }\n",
              "    (() => {\n",
              "      let quickchartButtonEl =\n",
              "        document.querySelector('#df-85505bc0-728b-40a9-9fd5-6c3d971ec708 button');\n",
              "      quickchartButtonEl.style.display =\n",
              "        google.colab.kernel.accessAllowed ? 'block' : 'none';\n",
              "    })();\n",
              "  </script>\n",
              "</div>\n",
              "\n",
              "  <div id=\"id_a0db3818-9e57-44d7-bf68-2ea2c84dfbd1\">\n",
              "    <style>\n",
              "      .colab-df-generate {\n",
              "        background-color: #E8F0FE;\n",
              "        border: none;\n",
              "        border-radius: 50%;\n",
              "        cursor: pointer;\n",
              "        display: none;\n",
              "        fill: #1967D2;\n",
              "        height: 32px;\n",
              "        padding: 0 0 0 0;\n",
              "        width: 32px;\n",
              "      }\n",
              "\n",
              "      .colab-df-generate:hover {\n",
              "        background-color: #E2EBFA;\n",
              "        box-shadow: 0px 1px 2px rgba(60, 64, 67, 0.3), 0px 1px 3px 1px rgba(60, 64, 67, 0.15);\n",
              "        fill: #174EA6;\n",
              "      }\n",
              "\n",
              "      [theme=dark] .colab-df-generate {\n",
              "        background-color: #3B4455;\n",
              "        fill: #D2E3FC;\n",
              "      }\n",
              "\n",
              "      [theme=dark] .colab-df-generate:hover {\n",
              "        background-color: #434B5C;\n",
              "        box-shadow: 0px 1px 3px 1px rgba(0, 0, 0, 0.15);\n",
              "        filter: drop-shadow(0px 1px 2px rgba(0, 0, 0, 0.3));\n",
              "        fill: #FFFFFF;\n",
              "      }\n",
              "    </style>\n",
              "    <button class=\"colab-df-generate\" onclick=\"generateWithVariable('data')\"\n",
              "            title=\"Generate code using this dataframe.\"\n",
              "            style=\"display:none;\">\n",
              "\n",
              "  <svg xmlns=\"http://www.w3.org/2000/svg\" height=\"24px\"viewBox=\"0 0 24 24\"\n",
              "       width=\"24px\">\n",
              "    <path d=\"M7,19H8.4L18.45,9,17,7.55,7,17.6ZM5,21V16.75L18.45,3.32a2,2,0,0,1,2.83,0l1.4,1.43a1.91,1.91,0,0,1,.58,1.4,1.91,1.91,0,0,1-.58,1.4L9.25,21ZM18.45,9,17,7.55Zm-12,3A5.31,5.31,0,0,0,4.9,8.1,5.31,5.31,0,0,0,1,6.5,5.31,5.31,0,0,0,4.9,4.9,5.31,5.31,0,0,0,6.5,1,5.31,5.31,0,0,0,8.1,4.9,5.31,5.31,0,0,0,12,6.5,5.46,5.46,0,0,0,6.5,12Z\"/>\n",
              "  </svg>\n",
              "    </button>\n",
              "    <script>\n",
              "      (() => {\n",
              "      const buttonEl =\n",
              "        document.querySelector('#id_a0db3818-9e57-44d7-bf68-2ea2c84dfbd1 button.colab-df-generate');\n",
              "      buttonEl.style.display =\n",
              "        google.colab.kernel.accessAllowed ? 'block' : 'none';\n",
              "\n",
              "      buttonEl.onclick = () => {\n",
              "        google.colab.notebook.generateWithVariable('data');\n",
              "      }\n",
              "      })();\n",
              "    </script>\n",
              "  </div>\n",
              "\n",
              "    </div>\n",
              "  </div>\n"
            ]
          },
          "metadata": {},
          "execution_count": 43
        }
      ],
      "source": [
        "data"
      ]
    },
    {
      "cell_type": "code",
      "execution_count": null,
      "metadata": {
        "id": "oxcQf-MWtI7D"
      },
      "outputs": [],
      "source": [
        "# data.drop('ClassPng/0/.DS_Store', axis=1)\n",
        "data = data.drop(data[data['path'] == '/content/drive/MyDrive/ClassPng/0/.DS_Store'].index)"
      ]
    },
    {
      "cell_type": "code",
      "execution_count": null,
      "metadata": {
        "colab": {
          "base_uri": "https://localhost:8080/",
          "height": 424
        },
        "id": "FvzYn7FHtI7D",
        "outputId": "0f6bf541-b030-4e10-c5ed-69b4a0301940"
      },
      "outputs": [
        {
          "output_type": "execute_result",
          "data": {
            "text/plain": [
              "                      image_file result  \\\n",
              "0             0/24 25U-T.dcm.png      0   \n",
              "1             0/24 25N-T.dcm.png      0   \n",
              "2              0/140-164.dcm.png      0   \n",
              "3                0/10H-T.dcm.png      0   \n",
              "4   0/2202897-VEDA-F4-B8.dcm.png      0   \n",
              "..                           ...    ...   \n",
              "68            1/24 25H-T.dcm.png      1   \n",
              "69               1/10W-T.dcm.png      1   \n",
              "70               1/10L-T.dcm.png      1   \n",
              "71               1/10N-T.dcm.png      1   \n",
              "72            1/24 25J-T.dcm.png      1   \n",
              "\n",
              "                                                 path  \n",
              "0   /content/drive/MyDrive/ClassPng/0/24 25U-T.dcm...  \n",
              "1   /content/drive/MyDrive/ClassPng/0/24 25N-T.dcm...  \n",
              "2   /content/drive/MyDrive/ClassPng/0/140-164.dcm.png  \n",
              "3     /content/drive/MyDrive/ClassPng/0/10H-T.dcm.png  \n",
              "4   /content/drive/MyDrive/ClassPng/0/2202897-VEDA...  \n",
              "..                                                ...  \n",
              "68  /content/drive/MyDrive/ClassPng/1/24 25H-T.dcm...  \n",
              "69    /content/drive/MyDrive/ClassPng/1/10W-T.dcm.png  \n",
              "70    /content/drive/MyDrive/ClassPng/1/10L-T.dcm.png  \n",
              "71    /content/drive/MyDrive/ClassPng/1/10N-T.dcm.png  \n",
              "72  /content/drive/MyDrive/ClassPng/1/24 25J-T.dcm...  \n",
              "\n",
              "[72 rows x 3 columns]"
            ],
            "text/html": [
              "\n",
              "  <div id=\"df-86da980c-2174-480b-a1ab-b68c800226ba\" class=\"colab-df-container\">\n",
              "    <div>\n",
              "<style scoped>\n",
              "    .dataframe tbody tr th:only-of-type {\n",
              "        vertical-align: middle;\n",
              "    }\n",
              "\n",
              "    .dataframe tbody tr th {\n",
              "        vertical-align: top;\n",
              "    }\n",
              "\n",
              "    .dataframe thead th {\n",
              "        text-align: right;\n",
              "    }\n",
              "</style>\n",
              "<table border=\"1\" class=\"dataframe\">\n",
              "  <thead>\n",
              "    <tr style=\"text-align: right;\">\n",
              "      <th></th>\n",
              "      <th>image_file</th>\n",
              "      <th>result</th>\n",
              "      <th>path</th>\n",
              "    </tr>\n",
              "  </thead>\n",
              "  <tbody>\n",
              "    <tr>\n",
              "      <th>0</th>\n",
              "      <td>0/24 25U-T.dcm.png</td>\n",
              "      <td>0</td>\n",
              "      <td>/content/drive/MyDrive/ClassPng/0/24 25U-T.dcm...</td>\n",
              "    </tr>\n",
              "    <tr>\n",
              "      <th>1</th>\n",
              "      <td>0/24 25N-T.dcm.png</td>\n",
              "      <td>0</td>\n",
              "      <td>/content/drive/MyDrive/ClassPng/0/24 25N-T.dcm...</td>\n",
              "    </tr>\n",
              "    <tr>\n",
              "      <th>2</th>\n",
              "      <td>0/140-164.dcm.png</td>\n",
              "      <td>0</td>\n",
              "      <td>/content/drive/MyDrive/ClassPng/0/140-164.dcm.png</td>\n",
              "    </tr>\n",
              "    <tr>\n",
              "      <th>3</th>\n",
              "      <td>0/10H-T.dcm.png</td>\n",
              "      <td>0</td>\n",
              "      <td>/content/drive/MyDrive/ClassPng/0/10H-T.dcm.png</td>\n",
              "    </tr>\n",
              "    <tr>\n",
              "      <th>4</th>\n",
              "      <td>0/2202897-VEDA-F4-B8.dcm.png</td>\n",
              "      <td>0</td>\n",
              "      <td>/content/drive/MyDrive/ClassPng/0/2202897-VEDA...</td>\n",
              "    </tr>\n",
              "    <tr>\n",
              "      <th>...</th>\n",
              "      <td>...</td>\n",
              "      <td>...</td>\n",
              "      <td>...</td>\n",
              "    </tr>\n",
              "    <tr>\n",
              "      <th>68</th>\n",
              "      <td>1/24 25H-T.dcm.png</td>\n",
              "      <td>1</td>\n",
              "      <td>/content/drive/MyDrive/ClassPng/1/24 25H-T.dcm...</td>\n",
              "    </tr>\n",
              "    <tr>\n",
              "      <th>69</th>\n",
              "      <td>1/10W-T.dcm.png</td>\n",
              "      <td>1</td>\n",
              "      <td>/content/drive/MyDrive/ClassPng/1/10W-T.dcm.png</td>\n",
              "    </tr>\n",
              "    <tr>\n",
              "      <th>70</th>\n",
              "      <td>1/10L-T.dcm.png</td>\n",
              "      <td>1</td>\n",
              "      <td>/content/drive/MyDrive/ClassPng/1/10L-T.dcm.png</td>\n",
              "    </tr>\n",
              "    <tr>\n",
              "      <th>71</th>\n",
              "      <td>1/10N-T.dcm.png</td>\n",
              "      <td>1</td>\n",
              "      <td>/content/drive/MyDrive/ClassPng/1/10N-T.dcm.png</td>\n",
              "    </tr>\n",
              "    <tr>\n",
              "      <th>72</th>\n",
              "      <td>1/24 25J-T.dcm.png</td>\n",
              "      <td>1</td>\n",
              "      <td>/content/drive/MyDrive/ClassPng/1/24 25J-T.dcm...</td>\n",
              "    </tr>\n",
              "  </tbody>\n",
              "</table>\n",
              "<p>72 rows × 3 columns</p>\n",
              "</div>\n",
              "    <div class=\"colab-df-buttons\">\n",
              "\n",
              "  <div class=\"colab-df-container\">\n",
              "    <button class=\"colab-df-convert\" onclick=\"convertToInteractive('df-86da980c-2174-480b-a1ab-b68c800226ba')\"\n",
              "            title=\"Convert this dataframe to an interactive table.\"\n",
              "            style=\"display:none;\">\n",
              "\n",
              "  <svg xmlns=\"http://www.w3.org/2000/svg\" height=\"24px\" viewBox=\"0 -960 960 960\">\n",
              "    <path d=\"M120-120v-720h720v720H120Zm60-500h600v-160H180v160Zm220 220h160v-160H400v160Zm0 220h160v-160H400v160ZM180-400h160v-160H180v160Zm440 0h160v-160H620v160ZM180-180h160v-160H180v160Zm440 0h160v-160H620v160Z\"/>\n",
              "  </svg>\n",
              "    </button>\n",
              "\n",
              "  <style>\n",
              "    .colab-df-container {\n",
              "      display:flex;\n",
              "      gap: 12px;\n",
              "    }\n",
              "\n",
              "    .colab-df-convert {\n",
              "      background-color: #E8F0FE;\n",
              "      border: none;\n",
              "      border-radius: 50%;\n",
              "      cursor: pointer;\n",
              "      display: none;\n",
              "      fill: #1967D2;\n",
              "      height: 32px;\n",
              "      padding: 0 0 0 0;\n",
              "      width: 32px;\n",
              "    }\n",
              "\n",
              "    .colab-df-convert:hover {\n",
              "      background-color: #E2EBFA;\n",
              "      box-shadow: 0px 1px 2px rgba(60, 64, 67, 0.3), 0px 1px 3px 1px rgba(60, 64, 67, 0.15);\n",
              "      fill: #174EA6;\n",
              "    }\n",
              "\n",
              "    .colab-df-buttons div {\n",
              "      margin-bottom: 4px;\n",
              "    }\n",
              "\n",
              "    [theme=dark] .colab-df-convert {\n",
              "      background-color: #3B4455;\n",
              "      fill: #D2E3FC;\n",
              "    }\n",
              "\n",
              "    [theme=dark] .colab-df-convert:hover {\n",
              "      background-color: #434B5C;\n",
              "      box-shadow: 0px 1px 3px 1px rgba(0, 0, 0, 0.15);\n",
              "      filter: drop-shadow(0px 1px 2px rgba(0, 0, 0, 0.3));\n",
              "      fill: #FFFFFF;\n",
              "    }\n",
              "  </style>\n",
              "\n",
              "    <script>\n",
              "      const buttonEl =\n",
              "        document.querySelector('#df-86da980c-2174-480b-a1ab-b68c800226ba button.colab-df-convert');\n",
              "      buttonEl.style.display =\n",
              "        google.colab.kernel.accessAllowed ? 'block' : 'none';\n",
              "\n",
              "      async function convertToInteractive(key) {\n",
              "        const element = document.querySelector('#df-86da980c-2174-480b-a1ab-b68c800226ba');\n",
              "        const dataTable =\n",
              "          await google.colab.kernel.invokeFunction('convertToInteractive',\n",
              "                                                    [key], {});\n",
              "        if (!dataTable) return;\n",
              "\n",
              "        const docLinkHtml = 'Like what you see? Visit the ' +\n",
              "          '<a target=\"_blank\" href=https://colab.research.google.com/notebooks/data_table.ipynb>data table notebook</a>'\n",
              "          + ' to learn more about interactive tables.';\n",
              "        element.innerHTML = '';\n",
              "        dataTable['output_type'] = 'display_data';\n",
              "        await google.colab.output.renderOutput(dataTable, element);\n",
              "        const docLink = document.createElement('div');\n",
              "        docLink.innerHTML = docLinkHtml;\n",
              "        element.appendChild(docLink);\n",
              "      }\n",
              "    </script>\n",
              "  </div>\n",
              "\n",
              "\n",
              "<div id=\"df-ee01dee6-ff08-49af-a2f7-9978c905722b\">\n",
              "  <button class=\"colab-df-quickchart\" onclick=\"quickchart('df-ee01dee6-ff08-49af-a2f7-9978c905722b')\"\n",
              "            title=\"Suggest charts\"\n",
              "            style=\"display:none;\">\n",
              "\n",
              "<svg xmlns=\"http://www.w3.org/2000/svg\" height=\"24px\"viewBox=\"0 0 24 24\"\n",
              "     width=\"24px\">\n",
              "    <g>\n",
              "        <path d=\"M19 3H5c-1.1 0-2 .9-2 2v14c0 1.1.9 2 2 2h14c1.1 0 2-.9 2-2V5c0-1.1-.9-2-2-2zM9 17H7v-7h2v7zm4 0h-2V7h2v10zm4 0h-2v-4h2v4z\"/>\n",
              "    </g>\n",
              "</svg>\n",
              "  </button>\n",
              "\n",
              "<style>\n",
              "  .colab-df-quickchart {\n",
              "      --bg-color: #E8F0FE;\n",
              "      --fill-color: #1967D2;\n",
              "      --hover-bg-color: #E2EBFA;\n",
              "      --hover-fill-color: #174EA6;\n",
              "      --disabled-fill-color: #AAA;\n",
              "      --disabled-bg-color: #DDD;\n",
              "  }\n",
              "\n",
              "  [theme=dark] .colab-df-quickchart {\n",
              "      --bg-color: #3B4455;\n",
              "      --fill-color: #D2E3FC;\n",
              "      --hover-bg-color: #434B5C;\n",
              "      --hover-fill-color: #FFFFFF;\n",
              "      --disabled-bg-color: #3B4455;\n",
              "      --disabled-fill-color: #666;\n",
              "  }\n",
              "\n",
              "  .colab-df-quickchart {\n",
              "    background-color: var(--bg-color);\n",
              "    border: none;\n",
              "    border-radius: 50%;\n",
              "    cursor: pointer;\n",
              "    display: none;\n",
              "    fill: var(--fill-color);\n",
              "    height: 32px;\n",
              "    padding: 0;\n",
              "    width: 32px;\n",
              "  }\n",
              "\n",
              "  .colab-df-quickchart:hover {\n",
              "    background-color: var(--hover-bg-color);\n",
              "    box-shadow: 0 1px 2px rgba(60, 64, 67, 0.3), 0 1px 3px 1px rgba(60, 64, 67, 0.15);\n",
              "    fill: var(--button-hover-fill-color);\n",
              "  }\n",
              "\n",
              "  .colab-df-quickchart-complete:disabled,\n",
              "  .colab-df-quickchart-complete:disabled:hover {\n",
              "    background-color: var(--disabled-bg-color);\n",
              "    fill: var(--disabled-fill-color);\n",
              "    box-shadow: none;\n",
              "  }\n",
              "\n",
              "  .colab-df-spinner {\n",
              "    border: 2px solid var(--fill-color);\n",
              "    border-color: transparent;\n",
              "    border-bottom-color: var(--fill-color);\n",
              "    animation:\n",
              "      spin 1s steps(1) infinite;\n",
              "  }\n",
              "\n",
              "  @keyframes spin {\n",
              "    0% {\n",
              "      border-color: transparent;\n",
              "      border-bottom-color: var(--fill-color);\n",
              "      border-left-color: var(--fill-color);\n",
              "    }\n",
              "    20% {\n",
              "      border-color: transparent;\n",
              "      border-left-color: var(--fill-color);\n",
              "      border-top-color: var(--fill-color);\n",
              "    }\n",
              "    30% {\n",
              "      border-color: transparent;\n",
              "      border-left-color: var(--fill-color);\n",
              "      border-top-color: var(--fill-color);\n",
              "      border-right-color: var(--fill-color);\n",
              "    }\n",
              "    40% {\n",
              "      border-color: transparent;\n",
              "      border-right-color: var(--fill-color);\n",
              "      border-top-color: var(--fill-color);\n",
              "    }\n",
              "    60% {\n",
              "      border-color: transparent;\n",
              "      border-right-color: var(--fill-color);\n",
              "    }\n",
              "    80% {\n",
              "      border-color: transparent;\n",
              "      border-right-color: var(--fill-color);\n",
              "      border-bottom-color: var(--fill-color);\n",
              "    }\n",
              "    90% {\n",
              "      border-color: transparent;\n",
              "      border-bottom-color: var(--fill-color);\n",
              "    }\n",
              "  }\n",
              "</style>\n",
              "\n",
              "  <script>\n",
              "    async function quickchart(key) {\n",
              "      const quickchartButtonEl =\n",
              "        document.querySelector('#' + key + ' button');\n",
              "      quickchartButtonEl.disabled = true;  // To prevent multiple clicks.\n",
              "      quickchartButtonEl.classList.add('colab-df-spinner');\n",
              "      try {\n",
              "        const charts = await google.colab.kernel.invokeFunction(\n",
              "            'suggestCharts', [key], {});\n",
              "      } catch (error) {\n",
              "        console.error('Error during call to suggestCharts:', error);\n",
              "      }\n",
              "      quickchartButtonEl.classList.remove('colab-df-spinner');\n",
              "      quickchartButtonEl.classList.add('colab-df-quickchart-complete');\n",
              "    }\n",
              "    (() => {\n",
              "      let quickchartButtonEl =\n",
              "        document.querySelector('#df-ee01dee6-ff08-49af-a2f7-9978c905722b button');\n",
              "      quickchartButtonEl.style.display =\n",
              "        google.colab.kernel.accessAllowed ? 'block' : 'none';\n",
              "    })();\n",
              "  </script>\n",
              "</div>\n",
              "\n",
              "  <div id=\"id_ff428330-0d1c-474e-a461-70a6fd74b085\">\n",
              "    <style>\n",
              "      .colab-df-generate {\n",
              "        background-color: #E8F0FE;\n",
              "        border: none;\n",
              "        border-radius: 50%;\n",
              "        cursor: pointer;\n",
              "        display: none;\n",
              "        fill: #1967D2;\n",
              "        height: 32px;\n",
              "        padding: 0 0 0 0;\n",
              "        width: 32px;\n",
              "      }\n",
              "\n",
              "      .colab-df-generate:hover {\n",
              "        background-color: #E2EBFA;\n",
              "        box-shadow: 0px 1px 2px rgba(60, 64, 67, 0.3), 0px 1px 3px 1px rgba(60, 64, 67, 0.15);\n",
              "        fill: #174EA6;\n",
              "      }\n",
              "\n",
              "      [theme=dark] .colab-df-generate {\n",
              "        background-color: #3B4455;\n",
              "        fill: #D2E3FC;\n",
              "      }\n",
              "\n",
              "      [theme=dark] .colab-df-generate:hover {\n",
              "        background-color: #434B5C;\n",
              "        box-shadow: 0px 1px 3px 1px rgba(0, 0, 0, 0.15);\n",
              "        filter: drop-shadow(0px 1px 2px rgba(0, 0, 0, 0.3));\n",
              "        fill: #FFFFFF;\n",
              "      }\n",
              "    </style>\n",
              "    <button class=\"colab-df-generate\" onclick=\"generateWithVariable('data')\"\n",
              "            title=\"Generate code using this dataframe.\"\n",
              "            style=\"display:none;\">\n",
              "\n",
              "  <svg xmlns=\"http://www.w3.org/2000/svg\" height=\"24px\"viewBox=\"0 0 24 24\"\n",
              "       width=\"24px\">\n",
              "    <path d=\"M7,19H8.4L18.45,9,17,7.55,7,17.6ZM5,21V16.75L18.45,3.32a2,2,0,0,1,2.83,0l1.4,1.43a1.91,1.91,0,0,1,.58,1.4,1.91,1.91,0,0,1-.58,1.4L9.25,21ZM18.45,9,17,7.55Zm-12,3A5.31,5.31,0,0,0,4.9,8.1,5.31,5.31,0,0,0,1,6.5,5.31,5.31,0,0,0,4.9,4.9,5.31,5.31,0,0,0,6.5,1,5.31,5.31,0,0,0,8.1,4.9,5.31,5.31,0,0,0,12,6.5,5.46,5.46,0,0,0,6.5,12Z\"/>\n",
              "  </svg>\n",
              "    </button>\n",
              "    <script>\n",
              "      (() => {\n",
              "      const buttonEl =\n",
              "        document.querySelector('#id_ff428330-0d1c-474e-a461-70a6fd74b085 button.colab-df-generate');\n",
              "      buttonEl.style.display =\n",
              "        google.colab.kernel.accessAllowed ? 'block' : 'none';\n",
              "\n",
              "      buttonEl.onclick = () => {\n",
              "        google.colab.notebook.generateWithVariable('data');\n",
              "      }\n",
              "      })();\n",
              "    </script>\n",
              "  </div>\n",
              "\n",
              "    </div>\n",
              "  </div>\n"
            ]
          },
          "metadata": {},
          "execution_count": 45
        }
      ],
      "source": [
        "data"
      ]
    },
    {
      "cell_type": "code",
      "execution_count": null,
      "metadata": {
        "colab": {
          "base_uri": "https://localhost:8080/"
        },
        "id": "6mchtskXtI7D",
        "outputId": "6aac8d28-da33-4e3a-9f46-7fc843ede8a2"
      },
      "outputs": [
        {
          "output_type": "stream",
          "name": "stdout",
          "text": [
            "(72, 64, 64, 1) (72,)\n"
          ]
        }
      ],
      "source": [
        "pixel_img = np.array(pixel_img)\n",
        "label_img = data['result'].map({'0': 0, '1': 1})\n",
        "\n",
        "print(pixel_img.shape, label_img.shape)"
      ]
    },
    {
      "cell_type": "code",
      "execution_count": null,
      "metadata": {
        "colab": {
          "base_uri": "https://localhost:8080/"
        },
        "id": "IP_sg3xStI7D",
        "outputId": "70909987-0de8-48c0-9400-59bacc95c8ca"
      },
      "outputs": [
        {
          "output_type": "stream",
          "name": "stdout",
          "text": [
            "(50, 64, 64, 1)\n",
            "(22, 64, 64, 1)\n",
            "(50,)\n",
            "(22,)\n"
          ]
        }
      ],
      "source": [
        "X_train, X_test, y_train, y_test = train_test_split(pixel_img, label_img,\n",
        "                                                    test_size=0.3, stratify=label_img)\n",
        "print(X_train.shape)\n",
        "print(X_test.shape)\n",
        "print(y_train.shape)\n",
        "print(y_test.shape)"
      ]
    },
    {
      "cell_type": "code",
      "execution_count": null,
      "metadata": {
        "colab": {
          "base_uri": "https://localhost:8080/",
          "height": 686
        },
        "id": "8d0ZvoJptI7K",
        "outputId": "84095904-7460-4a1c-8e44-c7ceabff7384"
      },
      "outputs": [
        {
          "output_type": "display_data",
          "data": {
            "text/plain": [
              "<Figure size 1000x600 with 1 Axes>"
            ],
            "image/png": "[encoded data removed]"
          },
          "metadata": {}
        },
        {
          "output_type": "stream",
          "name": "stdout",
          "text": [
            "\n",
            "Image Counts for Each Class in X_train:\n",
            "0    22\n",
            "1    28\n",
            "Name: Label, dtype: int64\n",
            "\n",
            "Total Images in X_train: 50\n"
          ]
        }
      ],
      "source": [
        "# Flatten each image in X_train\n",
        "X_train_flattened = [image.flatten() for image in X_train]\n",
        "\n",
        "# Create a DataFrame for easier plotting\n",
        "train_df = pd.DataFrame({'Image': X_train_flattened, 'Label': y_train})\n",
        "\n",
        "# Plot countplot for each class\n",
        "plt.figure(figsize=(10, 6))\n",
        "sns.countplot(x='Label', data=train_df)\n",
        "plt.title('Image Counts for Each Class in X_train')\n",
        "plt.show()\n",
        "\n",
        "# Print the count for each class\n",
        "class_counts_train = train_df['Label'].value_counts().sort_index()\n",
        "print(\"\\nImage Counts for Each Class in X_train:\")\n",
        "print(class_counts_train)\n",
        "\n",
        "# Print the total count\n",
        "total_train_images = len(X_train)\n",
        "print(f\"\\nTotal Images in X_train: {total_train_images}\")"
      ]
    },
    {
      "cell_type": "code",
      "execution_count": null,
      "metadata": {
        "colab": {
          "base_uri": "https://localhost:8080/",
          "height": 686
        },
        "id": "wjRmQ9G1tI7K",
        "outputId": "f61a4185-8100-4c75-e20c-d13bcd7de222"
      },
      "outputs": [
        {
          "output_type": "display_data",
          "data": {
            "text/plain": [
              "<Figure size 1000x600 with 1 Axes>"
            ],
            "image/png": "[encoded data removed]"
          },
          "metadata": {}
        },
        {
          "output_type": "stream",
          "name": "stdout",
          "text": [
            "\n",
            "Image Counts for Each Class in X_test:\n",
            "0    10\n",
            "1    12\n",
            "Name: Label, dtype: int64\n",
            "\n",
            "Total Images in X_test: 22\n"
          ]
        }
      ],
      "source": [
        "X_test_flattened = [image.flatten() for image in X_test]\n",
        "\n",
        "# Create a DataFrame for easier plotting\n",
        "test_df = pd.DataFrame({'Image': X_test_flattened, 'Label': y_test})\n",
        "\n",
        "# Plot countplot for each class in X_test\n",
        "plt.figure(figsize=(10, 6))\n",
        "sns.countplot(x='Label', data=test_df)\n",
        "plt.title('Image Counts for Each Class in X_test')\n",
        "plt.show()\n",
        "\n",
        "# Print the count for each class in X_test\n",
        "class_counts_test = test_df['Label'].value_counts().sort_index()\n",
        "print(\"\\nImage Counts for Each Class in X_test:\")\n",
        "print(class_counts_test)\n",
        "\n",
        "# Print the total count\n",
        "total_test_images = len(X_test)\n",
        "print(f\"\\nTotal Images in X_test: {total_test_images}\")"
      ]
    },
    {
      "cell_type": "code",
      "execution_count": null,
      "metadata": {
        "colab": {
          "base_uri": "https://localhost:8080/"
        },
        "id": "Eb0XYnYFtI7K",
        "outputId": "2351c708-20a8-4b2a-d618-4f0ad46b0cb4"
      },
      "outputs": [
        {
          "output_type": "stream",
          "name": "stdout",
          "text": [
            "Original shape of x_train: (50, 64, 64, 1)\n",
            "Original shape of x_test: (22, 64, 64, 1)\n"
          ]
        }
      ],
      "source": [
        "print(\"Original shape of x_train:\", X_train.shape)  # Check the shape\n",
        "print(\"Original shape of x_test:\", X_test.shape)  # Check the shape"
      ]
    },
    {
      "cell_type": "code",
      "execution_count": null,
      "metadata": {
        "colab": {
          "base_uri": "https://localhost:8080/"
        },
        "id": "j5aS2LlYtI7L",
        "outputId": "f963e446-396e-4ad0-8a2d-47b14724bb1b"
      },
      "outputs": [
        {
          "output_type": "execute_result",
          "data": {
            "text/plain": [
              "1    56.0\n",
              "0    44.0\n",
              "Name: result, dtype: float64"
            ]
          },
          "metadata": {},
          "execution_count": 51
        }
      ],
      "source": [
        "round(y_train.value_counts() / y_train.shape[0] * 100,2)"
      ]
    },
    {
      "cell_type": "code",
      "execution_count": null,
      "metadata": {
        "colab": {
          "base_uri": "https://localhost:8080/"
        },
        "id": "b4eCnL1ttI7L",
        "outputId": "cbd8a220-9186-416d-c79a-076b6175eaf1"
      },
      "outputs": [
        {
          "output_type": "stream",
          "name": "stdout",
          "text": [
            "4096\n",
            "2\n"
          ]
        }
      ],
      "source": [
        "input_size = X_train.shape[1] * X_train.shape[2]\n",
        "print(input_size)\n",
        "\n",
        "num_classes = len(np.unique(y_train))\n",
        "print(num_classes)"
      ]
    },
    {
      "cell_type": "code",
      "execution_count": null,
      "metadata": {
        "id": "KMj4gQX6tI7L"
      },
      "outputs": [],
      "source": [
        "# flatten and normalize the image\n",
        "X_train = np.reshape(X_train, [X_train.shape[0], input_size])\n",
        "X_train = X_train.astype('float32') / 255\n",
        "\n",
        "X_test = np.reshape(X_test, [X_test.shape[0], input_size])\n",
        "X_test = X_test.astype('float32') / 255"
      ]
    },
    {
      "cell_type": "code",
      "execution_count": null,
      "metadata": {
        "id": "JVFYSUnatI7N"
      },
      "outputs": [],
      "source": [
        "import imblearn"
      ]
    },
    {
      "cell_type": "code",
      "execution_count": null,
      "metadata": {
        "id": "2WmQnDuBtI7N"
      },
      "outputs": [],
      "source": [
        "from imblearn.over_sampling import SMOTE\n",
        "from imblearn.combine import SMOTETomek\n",
        "from imblearn.under_sampling import TomekLinks"
      ]
    },
    {
      "cell_type": "code",
      "execution_count": null,
      "metadata": {
        "id": "KkDjxk4CtI7O"
      },
      "outputs": [],
      "source": [
        "from collections import Counter\n",
        "smote = SMOTE(random_state = 11)\n",
        "X_train_res, y_train_res = smote.fit_resample(X_train, y_train)"
      ]
    },
    {
      "cell_type": "code",
      "execution_count": null,
      "metadata": {
        "colab": {
          "base_uri": "https://localhost:8080/"
        },
        "id": "7JcFWeMwtI7O",
        "outputId": "b20b37ee-d766-41ab-90f5-3229f52136f7"
      },
      "outputs": [
        {
          "output_type": "stream",
          "name": "stdout",
          "text": [
            "Before SMOTE :  Counter({1: 28, 0: 22})\n",
            "After SMOTE :  Counter({1: 28, 0: 28})\n"
          ]
        }
      ],
      "source": [
        "print('Before SMOTE : ',Counter(y_train))\n",
        "print('After SMOTE : ',Counter(y_train_res))"
      ]
    },
    {
      "cell_type": "code",
      "source": [
        "X_train_flattened_2 = [image.flatten() for image in X_train_res]\n",
        "\n",
        "# Create a DataFrame for easier plotting\n",
        "train_df_2 = pd.DataFrame({'Image': X_train_flattened_2, 'Label': y_train_res})\n",
        "\n",
        "# Plot countplot for each class\n",
        "plt.figure(figsize=(10, 6))\n",
        "sns.countplot(x='Label', data=train_df_2)\n",
        "plt.title('Image Counts for Each Class in X_train after applying SMOTE')\n",
        "plt.show()\n",
        "\n",
        "# Print the count for each class\n",
        "class_counts_train_2 = train_df_2['Label'].value_counts().sort_index()\n",
        "print(\"\\nImage Counts for Each Class in X_train after applying SMOTE:\")\n",
        "print(class_counts_train_2)\n",
        "\n",
        "# Print the total count\n",
        "total_train_images_2 = len(X_train_res)\n",
        "print(f\"\\nTotal Images in X_train after applying SMOTE: {total_train_images_2}\")"
      ],
      "metadata": {
        "colab": {
          "base_uri": "https://localhost:8080/",
          "height": 686
        },
        "id": "hkvb3kGHxG44",
        "outputId": "85b641ce-6efc-4ef7-a042-ec9b827723ed"
      },
      "execution_count": null,
      "outputs": [
        {
          "output_type": "display_data",
          "data": {
            "text/plain": [
              "<Figure size 1000x600 with 1 Axes>"
            ],
            "image/png": "[encoded data removed]"
          },
          "metadata": {}
        },
        {
          "output_type": "stream",
          "name": "stdout",
          "text": [
            "\n",
            "Image Counts for Each Class in X_train after applying SMOTE:\n",
            "0    28\n",
            "1    28\n",
            "Name: Label, dtype: int64\n",
            "\n",
            "Total Images in X_train after applying SMOTE: 56\n"
          ]
        }
      ]
    },
    {
      "cell_type": "markdown",
      "source": [
        "## Models"
      ],
      "metadata": {
        "id": "fNX0NzA2xQRy"
      }
    },
    {
      "cell_type": "code",
      "source": [
        "from sklearn.metrics import classification_report,accuracy_score,precision_score\n",
        "from sklearn.metrics import confusion_matrix,roc_curve,recall_score,f1_score,roc_auc_score\n",
        "from sklearn.metrics import classification_report,accuracy_score,confusion_matrix,precision_score,recall_score,f1_score,ConfusionMatrixDisplay"
      ],
      "metadata": {
        "id": "8JXetXXHxNGQ"
      },
      "execution_count": null,
      "outputs": []
    },
    {
      "cell_type": "code",
      "source": [
        "print(\"Type of X_test:\", type(X_test))\n",
        "print(\"Type of y_test:\", type(y_test))\n",
        "\n",
        "if isinstance(X_test, list):\n",
        "    print(\"Number of images in X_test:\", len(X_test))\n",
        "    if len(X_test) > 0:\n",
        "        print(\"Shape of the first image in X_test:\", X_test[0].shape)\n",
        "else:\n",
        "    print(\"X_test is not a list of images.\")\n",
        "\n",
        "if isinstance(y_test, (list, np.ndarray)):\n",
        "    print(\"Shape of y_test:\", y_test.shape if isinstance(y_test, np.ndarray) else len(y_test))\n",
        "    if len(y_test) > 0:\n",
        "        print(\"Example labels in y_test:\", y_test[:5])\n",
        "else:\n",
        "    print(\"y_test is not a list or numpy array of labels.\")"
      ],
      "metadata": {
        "colab": {
          "base_uri": "https://localhost:8080/"
        },
        "id": "-T6aUVHKxTFY",
        "outputId": "bf199e17-54c9-4511-e425-0a5d0e7a3e9a"
      },
      "execution_count": null,
      "outputs": [
        {
          "output_type": "stream",
          "name": "stdout",
          "text": [
            "Type of X_test: <class 'numpy.ndarray'>\n",
            "Type of y_test: <class 'pandas.core.series.Series'>\n",
            "X_test is not a list of images.\n",
            "y_test is not a list or numpy array of labels.\n"
          ]
        }
      ]
    },
    {
      "cell_type": "code",
      "source": [
        "X_test_list = X_test.tolist()\n",
        "\n",
        "# Convert y_test to a NumPy array\n",
        "y_test_array = y_test.to_numpy()\n",
        "\n",
        "# Now, you can use X_test_list and y_test_array in your code\n",
        "\n",
        "class_mapping = {\n",
        "    0: '0',\n",
        "    1: '1'\n",
        "}"
      ],
      "metadata": {
        "id": "s3NFBhdFxU-Z"
      },
      "execution_count": null,
      "outputs": []
    },
    {
      "cell_type": "code",
      "source": [
        "from sklearn.tree import DecisionTreeClassifier\n",
        "from sklearn import tree\n",
        "\n",
        "decision_tree = DecisionTreeClassifier()\n",
        "decision_tree = decision_tree.fit(X_train,y_train)"
      ],
      "metadata": {
        "id": "97Api75ZxaRz"
      },
      "execution_count": null,
      "outputs": []
    },
    {
      "cell_type": "code",
      "source": [
        "print (\"Decision Tree\\n\")\n",
        "print (\"Training Accuracy: \", decision_tree.score(X_train, y_train)*100) # Check training accuracy\n",
        "print (\"Testing Accuracy: \", decision_tree.score(X_test,y_test)*100) # Check testing accuracy"
      ],
      "metadata": {
        "colab": {
          "base_uri": "https://localhost:8080/"
        },
        "id": "Tfkcp94excpS",
        "outputId": "8523449d-5476-44b8-e3cc-9bdf323735dd"
      },
      "execution_count": null,
      "outputs": [
        {
          "output_type": "stream",
          "name": "stdout",
          "text": [
            "Decision Tree\n",
            "\n",
            "Training Accuracy:  100.0\n",
            "Testing Accuracy:  54.54545454545454\n"
          ]
        }
      ]
    },
    {
      "cell_type": "code",
      "source": [
        "decision_tree_pred = decision_tree.predict(X_test)\n",
        "accuracy_score(decision_tree_pred,y_test)*100"
      ],
      "metadata": {
        "colab": {
          "base_uri": "https://localhost:8080/"
        },
        "id": "5ulZSxJbxeWB",
        "outputId": "a11338f1-fffd-4cf8-ec41-83ba6cb01538"
      },
      "execution_count": null,
      "outputs": [
        {
          "output_type": "execute_result",
          "data": {
            "text/plain": [
              "54.54545454545454"
            ]
          },
          "metadata": {},
          "execution_count": 65
        }
      ]
    },
    {
      "cell_type": "code",
      "source": [
        "\n",
        "decision_tree_pred_view = decision_tree.predict(X_test_list)\n",
        "\n",
        "print(\"Decision Tree\")\n",
        "for i in range(min(20, len(X_test_list))):  # Print for the first 10 images\n",
        "    actual_class = class_mapping[y_test_array[i]]\n",
        "    predicted_class = class_mapping[decision_tree_pred[i]]\n",
        "    print(f\"Actual Class: {actual_class}\\t\\t\\tPredicted Class: {predicted_class}\")"
      ],
      "metadata": {
        "colab": {
          "base_uri": "https://localhost:8080/"
        },
        "id": "NYHUUS1txiZQ",
        "outputId": "928d765b-f789-46d1-ca69-c660860a75ba"
      },
      "execution_count": null,
      "outputs": [
        {
          "output_type": "stream",
          "name": "stdout",
          "text": [
            "Decision Tree\n",
            "Actual Class: 0\t\t\tPredicted Class: 1\n",
            "Actual Class: 0\t\t\tPredicted Class: 1\n",
            "Actual Class: 0\t\t\tPredicted Class: 0\n",
            "Actual Class: 1\t\t\tPredicted Class: 0\n",
            "Actual Class: 1\t\t\tPredicted Class: 1\n",
            "Actual Class: 0\t\t\tPredicted Class: 0\n",
            "Actual Class: 1\t\t\tPredicted Class: 1\n",
            "Actual Class: 1\t\t\tPredicted Class: 1\n",
            "Actual Class: 1\t\t\tPredicted Class: 1\n",
            "Actual Class: 0\t\t\tPredicted Class: 0\n",
            "Actual Class: 0\t\t\tPredicted Class: 0\n",
            "Actual Class: 1\t\t\tPredicted Class: 0\n",
            "Actual Class: 1\t\t\tPredicted Class: 0\n",
            "Actual Class: 0\t\t\tPredicted Class: 1\n",
            "Actual Class: 1\t\t\tPredicted Class: 0\n",
            "Actual Class: 0\t\t\tPredicted Class: 0\n",
            "Actual Class: 0\t\t\tPredicted Class: 0\n",
            "Actual Class: 1\t\t\tPredicted Class: 0\n",
            "Actual Class: 1\t\t\tPredicted Class: 0\n",
            "Actual Class: 1\t\t\tPredicted Class: 1\n"
          ]
        }
      ]
    },
    {
      "cell_type": "markdown",
      "source": [
        "### Gaussina NB"
      ],
      "metadata": {
        "id": "8lnXWduqxrqR"
      }
    },
    {
      "cell_type": "code",
      "source": [
        "from sklearn.naive_bayes import MultinomialNB , GaussianNB, BernoulliNB\n",
        "gaussian_nb = GaussianNB()\n",
        "gaussian_nb=gaussian_nb.fit(X_train, y_train)"
      ],
      "metadata": {
        "id": "1AIzYjT0xm5O"
      },
      "execution_count": null,
      "outputs": []
    },
    {
      "cell_type": "code",
      "source": [
        "print (\"Gaussian Naive Bayes\\n\")\n",
        "print (\"Training Accuracy: \", gaussian_nb.score(X_train, y_train)*100) # Check training accuracy\n",
        "print (\"Testing Accuracy: \", gaussian_nb.score(X_test,y_test)*100) # Check testing accuracy\n"
      ],
      "metadata": {
        "colab": {
          "base_uri": "https://localhost:8080/"
        },
        "id": "IpT6U7jCxu9d",
        "outputId": "63068aa5-7fce-47c5-f150-b175caee63da"
      },
      "execution_count": null,
      "outputs": [
        {
          "output_type": "stream",
          "name": "stdout",
          "text": [
            "Gaussian Naive Bayes\n",
            "\n",
            "Training Accuracy:  82.0\n",
            "Testing Accuracy:  54.54545454545454\n"
          ]
        }
      ]
    },
    {
      "cell_type": "code",
      "source": [
        "gaussian_nb_pred = gaussian_nb.predict(X_test)\n",
        "accuracy_score(gaussian_nb_pred,y_test)*100"
      ],
      "metadata": {
        "colab": {
          "base_uri": "https://localhost:8080/"
        },
        "id": "mj_308-jxw2c",
        "outputId": "20e504cc-ac3d-43d8-8ae1-4cb2414ab34d"
      },
      "execution_count": null,
      "outputs": [
        {
          "output_type": "execute_result",
          "data": {
            "text/plain": [
              "54.54545454545454"
            ]
          },
          "metadata": {},
          "execution_count": 69
        }
      ]
    },
    {
      "cell_type": "code",
      "source": [
        "print(classification_report(y_test,gaussian_nb_pred)) #main"
      ],
      "metadata": {
        "colab": {
          "base_uri": "https://localhost:8080/"
        },
        "id": "rl4EZqvOxy9O",
        "outputId": "7864908d-bf57-41d7-d866-24224187248d"
      },
      "execution_count": null,
      "outputs": [
        {
          "output_type": "stream",
          "name": "stdout",
          "text": [
            "              precision    recall  f1-score   support\n",
            "\n",
            "           0       0.50      0.60      0.55        10\n",
            "           1       0.60      0.50      0.55        12\n",
            "\n",
            "    accuracy                           0.55        22\n",
            "   macro avg       0.55      0.55      0.55        22\n",
            "weighted avg       0.55      0.55      0.55        22\n",
            "\n"
          ]
        }
      ]
    },
    {
      "cell_type": "code",
      "source": [
        "gaussian_nb_pred_view = gaussian_nb.predict(X_test_list)\n",
        "\n",
        "print(\"Gaussian Naive Bayes Classifier\")\n",
        "for i in range(min(20, len(X_test_list))):  # Print for the first 10 images\n",
        "    actual_class = class_mapping[y_test_array[i]]\n",
        "    predicted_class = class_mapping[gaussian_nb_pred_view[i]]\n",
        "    print(f\"Actual Class: {actual_class}\\t\\t\\tPredicted Class: {predicted_class}\")"
      ],
      "metadata": {
        "colab": {
          "base_uri": "https://localhost:8080/"
        },
        "id": "w96KiHG1x1bX",
        "outputId": "3c1e3c5f-54c6-4121-9a24-205fc9053ced"
      },
      "execution_count": null,
      "outputs": [
        {
          "output_type": "stream",
          "name": "stdout",
          "text": [
            "Gaussian Naive Bayes Classifier\n",
            "Actual Class: 0\t\t\tPredicted Class: 1\n",
            "Actual Class: 0\t\t\tPredicted Class: 1\n",
            "Actual Class: 0\t\t\tPredicted Class: 0\n",
            "Actual Class: 1\t\t\tPredicted Class: 1\n",
            "Actual Class: 1\t\t\tPredicted Class: 1\n",
            "Actual Class: 0\t\t\tPredicted Class: 0\n",
            "Actual Class: 1\t\t\tPredicted Class: 0\n",
            "Actual Class: 1\t\t\tPredicted Class: 1\n",
            "Actual Class: 1\t\t\tPredicted Class: 0\n",
            "Actual Class: 0\t\t\tPredicted Class: 1\n",
            "Actual Class: 0\t\t\tPredicted Class: 0\n",
            "Actual Class: 1\t\t\tPredicted Class: 0\n",
            "Actual Class: 1\t\t\tPredicted Class: 0\n",
            "Actual Class: 0\t\t\tPredicted Class: 1\n",
            "Actual Class: 1\t\t\tPredicted Class: 0\n",
            "Actual Class: 0\t\t\tPredicted Class: 0\n",
            "Actual Class: 0\t\t\tPredicted Class: 0\n",
            "Actual Class: 1\t\t\tPredicted Class: 1\n",
            "Actual Class: 1\t\t\tPredicted Class: 1\n",
            "Actual Class: 1\t\t\tPredicted Class: 0\n"
          ]
        }
      ]
    },
    {
      "cell_type": "code",
      "source": [
        "gaussian_nb_res=gaussian_nb.fit(X_train_res,y_train_res)\n",
        "\n",
        "print (\"Gaussian Naive Bayes after SMOTE\\n\")\n",
        "print (\"Training Accuracy: \", gaussian_nb_res.score(X_train_res, y_train_res)*100) # Check training accuracy\n",
        "print (\"Testing Accuracy: \", gaussian_nb_res.score(X_test,y_test)*100) # Check testing accuracy"
      ],
      "metadata": {
        "colab": {
          "base_uri": "https://localhost:8080/"
        },
        "id": "g6KGMKf8x-Af",
        "outputId": "bd7cc78b-cc70-48d1-d30b-0e7018a9f123"
      },
      "execution_count": null,
      "outputs": [
        {
          "output_type": "stream",
          "name": "stdout",
          "text": [
            "Gaussian Naive Bayes after SMOTE\n",
            "\n",
            "Training Accuracy:  85.71428571428571\n",
            "Testing Accuracy:  59.09090909090909\n"
          ]
        }
      ]
    },
    {
      "cell_type": "markdown",
      "source": [
        "### Random Forest classifier"
      ],
      "metadata": {
        "id": "69eyi4jfyEjf"
      }
    },
    {
      "cell_type": "code",
      "source": [
        "from sklearn.ensemble import RandomForestClassifier\n",
        "\n",
        "rnd_clf = RandomForestClassifier(n_estimators=100,max_depth=3, n_jobs=-1, random_state=42)\n",
        "rnd_clf=rnd_clf.fit(X_train, y_train)"
      ],
      "metadata": {
        "id": "WMRFOJVFyA-m"
      },
      "execution_count": null,
      "outputs": []
    },
    {
      "cell_type": "code",
      "source": [
        "print (\"Random Forest Classifier\\n\")\n",
        "print (\"Training Accuracy: \", rnd_clf.score(X_train, y_train)*100) # Check training accuracy\n",
        "print (\"Testing Accuracy: \", rnd_clf.score(X_test,y_test)*100) # Check testing accuracy\n"
      ],
      "metadata": {
        "colab": {
          "base_uri": "https://localhost:8080/"
        },
        "id": "mdvGWjtkyHpV",
        "outputId": "6d5e4044-ab90-4e73-facd-d3785d5d5317"
      },
      "execution_count": null,
      "outputs": [
        {
          "output_type": "stream",
          "name": "stdout",
          "text": [
            "Random Forest Classifier\n",
            "\n",
            "Training Accuracy:  98.0\n",
            "Testing Accuracy:  54.54545454545454\n"
          ]
        }
      ]
    },
    {
      "cell_type": "code",
      "source": [
        "rnd_clf_pred=  rnd_clf.predict(X_test)\n",
        "accuracy_score(rnd_clf_pred,y_test)*100"
      ],
      "metadata": {
        "colab": {
          "base_uri": "https://localhost:8080/"
        },
        "id": "f5bvyVydyKb1",
        "outputId": "835883b9-6556-4957-e6ae-562c4684142c"
      },
      "execution_count": null,
      "outputs": [
        {
          "output_type": "execute_result",
          "data": {
            "text/plain": [
              "54.54545454545454"
            ]
          },
          "metadata": {},
          "execution_count": 75
        }
      ]
    },
    {
      "cell_type": "code",
      "source": [
        "rnd_clf_pred_view = rnd_clf.predict(X_test_list)\n",
        "\n",
        "print(\"Random Forest Classifier\")\n",
        "for i in range(min(20, len(X_test_list))):  # Print for the first 10 images\n",
        "    actual_class = class_mapping[y_test_array[i]]\n",
        "    predicted_class = class_mapping[rnd_clf_pred_view[i]]\n",
        "    print(f\"Actual Class: {actual_class}\\t\\t\\tPredicted Class: {predicted_class}\")\n",
        "    # You can also display or visualize the corresponding image here if needed"
      ],
      "metadata": {
        "colab": {
          "base_uri": "https://localhost:8080/"
        },
        "id": "e-3mk4cnyMsR",
        "outputId": "3789fbf5-fe65-4d44-f392-b6d2e12a915c"
      },
      "execution_count": null,
      "outputs": [
        {
          "output_type": "stream",
          "name": "stdout",
          "text": [
            "Random Forest Classifier\n",
            "Actual Class: 0\t\t\tPredicted Class: 1\n",
            "Actual Class: 0\t\t\tPredicted Class: 1\n",
            "Actual Class: 0\t\t\tPredicted Class: 0\n",
            "Actual Class: 1\t\t\tPredicted Class: 1\n",
            "Actual Class: 1\t\t\tPredicted Class: 1\n",
            "Actual Class: 0\t\t\tPredicted Class: 1\n",
            "Actual Class: 1\t\t\tPredicted Class: 0\n",
            "Actual Class: 1\t\t\tPredicted Class: 1\n",
            "Actual Class: 1\t\t\tPredicted Class: 1\n",
            "Actual Class: 0\t\t\tPredicted Class: 0\n",
            "Actual Class: 0\t\t\tPredicted Class: 0\n",
            "Actual Class: 1\t\t\tPredicted Class: 0\n",
            "Actual Class: 1\t\t\tPredicted Class: 0\n",
            "Actual Class: 0\t\t\tPredicted Class: 1\n",
            "Actual Class: 1\t\t\tPredicted Class: 0\n",
            "Actual Class: 0\t\t\tPredicted Class: 1\n",
            "Actual Class: 0\t\t\tPredicted Class: 0\n",
            "Actual Class: 1\t\t\tPredicted Class: 0\n",
            "Actual Class: 1\t\t\tPredicted Class: 1\n",
            "Actual Class: 1\t\t\tPredicted Class: 1\n"
          ]
        }
      ]
    },
    {
      "cell_type": "code",
      "source": [],
      "metadata": {
        "id": "E0JWXuJoyPWz"
      },
      "execution_count": null,
      "outputs": []
    }
  ],
  "metadata": {
    "colab": {
      "cell_execution_strategy": "setup",
      "provenance": [],
      "gpuType": "T4",
      "include_colab_link": true
    },
    "kernelspec": {
      "display_name": "Python 3",
      "name": "python3"
    },
    "language_info": {
      "codemirror_mode": {
        "name": "ipython",
        "version": 3
      },
      "file_extension": ".py",
      "mimetype": "text/x-python",
      "name": "python",
      "nbconvert_exporter": "python",
      "pygments_lexer": "ipython3",
      "version": "3.9.13"
    },
    "accelerator": "GPU"
  },
  "nbformat": 4,
  "nbformat_minor": 0
}